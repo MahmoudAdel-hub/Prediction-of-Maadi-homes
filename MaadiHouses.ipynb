{
 "cells": [
  {
   "cell_type": "code",
   "execution_count": 1,
   "id": "01883256",
   "metadata": {},
   "outputs": [],
   "source": [
    "import pandas as pd\n",
    "import numpy as np"
   ]
  },
  {
   "cell_type": "markdown",
   "id": "41a2dd6f",
   "metadata": {},
   "source": [
    "# Data Wrangle"
   ]
  },
  {
   "cell_type": "markdown",
   "id": "fd2ebd3a",
   "metadata": {},
   "source": [
    "## Gathering Data"
   ]
  },
  {
   "cell_type": "code",
   "execution_count": 2,
   "id": "3c0dbe87",
   "metadata": {},
   "outputs": [],
   "source": [
    "df=pd.read_csv(r'C:\\Users\\HP\\Desktop\\Maadi\\Prediction-of-Maadi-homes-main\\Maadi_Houses-main\\Maadi_houses.csv')"
   ]
  },
  {
   "cell_type": "markdown",
   "id": "61a2765d",
   "metadata": {},
   "source": [
    "## Assessment Data and Find Issues"
   ]
  },
  {
   "cell_type": "markdown",
   "id": "1e964039",
   "metadata": {},
   "source": [
    "### Programically"
   ]
  },
  {
   "cell_type": "code",
   "execution_count": 3,
   "id": "d8ab6c21",
   "metadata": {},
   "outputs": [
    {
     "data": {
      "text/html": [
       "<div>\n",
       "<style scoped>\n",
       "    .dataframe tbody tr th:only-of-type {\n",
       "        vertical-align: middle;\n",
       "    }\n",
       "\n",
       "    .dataframe tbody tr th {\n",
       "        vertical-align: top;\n",
       "    }\n",
       "\n",
       "    .dataframe thead th {\n",
       "        text-align: right;\n",
       "    }\n",
       "</style>\n",
       "<table border=\"1\" class=\"dataframe\">\n",
       "  <thead>\n",
       "    <tr style=\"text-align: right;\">\n",
       "      <th></th>\n",
       "      <th>Unnamed: 0</th>\n",
       "      <th>place</th>\n",
       "      <th>properties</th>\n",
       "      <th>finishing_level</th>\n",
       "      <th>area</th>\n",
       "      <th>bathrooms</th>\n",
       "      <th>bedrooms</th>\n",
       "      <th>price</th>\n",
       "    </tr>\n",
       "  </thead>\n",
       "  <tbody>\n",
       "    <tr>\n",
       "      <th>0</th>\n",
       "      <td>0</td>\n",
       "      <td>Maadi,Maadi Degla</td>\n",
       "      <td>Apartments</td>\n",
       "      <td>Semi Furnished</td>\n",
       "      <td>320 Sqm</td>\n",
       "      <td>3 Bathrooms</td>\n",
       "      <td>5 Bedrooms</td>\n",
       "      <td>6,000,000 Egp</td>\n",
       "    </tr>\n",
       "    <tr>\n",
       "      <th>1</th>\n",
       "      <td>1</td>\n",
       "      <td>Maadi,Maadi Degla</td>\n",
       "      <td>Penthouses</td>\n",
       "      <td>Semi Furnished</td>\n",
       "      <td>700 Sqm</td>\n",
       "      <td>3 Bathrooms</td>\n",
       "      <td>5 Bedrooms</td>\n",
       "      <td>7,000,000 Egp</td>\n",
       "    </tr>\n",
       "    <tr>\n",
       "      <th>2</th>\n",
       "      <td>2</td>\n",
       "      <td>Maadi,Maadi Sarayat</td>\n",
       "      <td>Apartments</td>\n",
       "      <td>Furnished</td>\n",
       "      <td>220 Sqm</td>\n",
       "      <td>3 Bathrooms</td>\n",
       "      <td>3 Bedrooms</td>\n",
       "      <td>6,000,000 Egp</td>\n",
       "    </tr>\n",
       "    <tr>\n",
       "      <th>3</th>\n",
       "      <td>3</td>\n",
       "      <td>Maadi,Old Maadi</td>\n",
       "      <td>Office Spaces</td>\n",
       "      <td>Semi Finished</td>\n",
       "      <td>320 Sqm</td>\n",
       "      <td>3 Bathrooms</td>\n",
       "      <td>4 Bedrooms</td>\n",
       "      <td>4,500,000 Egp</td>\n",
       "    </tr>\n",
       "    <tr>\n",
       "      <th>4</th>\n",
       "      <td>4</td>\n",
       "      <td>Maadi,Maadi Degla</td>\n",
       "      <td>Apartments</td>\n",
       "      <td>Modern Furnished</td>\n",
       "      <td>190 Sqm</td>\n",
       "      <td>2 Bathrooms</td>\n",
       "      <td>2 Bedrooms</td>\n",
       "      <td>2,500,000 Egp</td>\n",
       "    </tr>\n",
       "    <tr>\n",
       "      <th>...</th>\n",
       "      <td>...</td>\n",
       "      <td>...</td>\n",
       "      <td>...</td>\n",
       "      <td>...</td>\n",
       "      <td>...</td>\n",
       "      <td>...</td>\n",
       "      <td>...</td>\n",
       "      <td>...</td>\n",
       "    </tr>\n",
       "    <tr>\n",
       "      <th>222</th>\n",
       "      <td>222</td>\n",
       "      <td>Maadi,Maadi Degla</td>\n",
       "      <td>Apartments</td>\n",
       "      <td>Furnished</td>\n",
       "      <td>225 Sqm</td>\n",
       "      <td>2 Bathrooms</td>\n",
       "      <td>3 Bedrooms</td>\n",
       "      <td>1,750,000 Egp</td>\n",
       "    </tr>\n",
       "    <tr>\n",
       "      <th>223</th>\n",
       "      <td>223</td>\n",
       "      <td>Maadi,Maadi Degla</td>\n",
       "      <td>Apartments</td>\n",
       "      <td>Furnished</td>\n",
       "      <td>185 Sqm</td>\n",
       "      <td>2 Bathrooms</td>\n",
       "      <td>3 Bedrooms</td>\n",
       "      <td>1,600,000 Egp</td>\n",
       "    </tr>\n",
       "    <tr>\n",
       "      <th>224</th>\n",
       "      <td>224</td>\n",
       "      <td>Maadi,Maadi Degla</td>\n",
       "      <td>Duplexes</td>\n",
       "      <td>Semi Furnished</td>\n",
       "      <td>400 Sqm</td>\n",
       "      <td>3 Bathrooms</td>\n",
       "      <td>4 Bedrooms</td>\n",
       "      <td>5,000,000 Egp</td>\n",
       "    </tr>\n",
       "    <tr>\n",
       "      <th>225</th>\n",
       "      <td>225</td>\n",
       "      <td>Maadi,Maadi Sarayat</td>\n",
       "      <td>Apartments</td>\n",
       "      <td>Semi Furnished</td>\n",
       "      <td>320 Sqm</td>\n",
       "      <td>4 Bathrooms</td>\n",
       "      <td>4 Bedrooms</td>\n",
       "      <td>5,000,000 Egp</td>\n",
       "    </tr>\n",
       "    <tr>\n",
       "      <th>226</th>\n",
       "      <td>226</td>\n",
       "      <td>Maadi,Maadi Zahraa</td>\n",
       "      <td>Apartments</td>\n",
       "      <td>Unfurnished</td>\n",
       "      <td>175 Sqm</td>\n",
       "      <td>2 Bathrooms</td>\n",
       "      <td>2 Bedrooms</td>\n",
       "      <td>1,700,000 Egp</td>\n",
       "    </tr>\n",
       "  </tbody>\n",
       "</table>\n",
       "<p>227 rows × 8 columns</p>\n",
       "</div>"
      ],
      "text/plain": [
       "     Unnamed: 0                place     properties   finishing_level  \\\n",
       "0             0    Maadi,Maadi Degla     Apartments    Semi Furnished   \n",
       "1             1    Maadi,Maadi Degla     Penthouses    Semi Furnished   \n",
       "2             2  Maadi,Maadi Sarayat     Apartments        Furnished    \n",
       "3             3      Maadi,Old Maadi  Office Spaces     Semi Finished   \n",
       "4             4    Maadi,Maadi Degla     Apartments  Modern Furnished   \n",
       "..          ...                  ...            ...               ...   \n",
       "222         222    Maadi,Maadi Degla     Apartments        Furnished    \n",
       "223         223    Maadi,Maadi Degla     Apartments        Furnished    \n",
       "224         224    Maadi,Maadi Degla       Duplexes    Semi Furnished   \n",
       "225         225  Maadi,Maadi Sarayat     Apartments    Semi Furnished   \n",
       "226         226   Maadi,Maadi Zahraa     Apartments      Unfurnished    \n",
       "\n",
       "        area    bathrooms    bedrooms          price  \n",
       "0    320 Sqm  3 Bathrooms  5 Bedrooms  6,000,000 Egp  \n",
       "1    700 Sqm  3 Bathrooms  5 Bedrooms  7,000,000 Egp  \n",
       "2    220 Sqm  3 Bathrooms  3 Bedrooms  6,000,000 Egp  \n",
       "3    320 Sqm  3 Bathrooms  4 Bedrooms  4,500,000 Egp  \n",
       "4    190 Sqm  2 Bathrooms  2 Bedrooms  2,500,000 Egp  \n",
       "..       ...          ...         ...            ...  \n",
       "222  225 Sqm  2 Bathrooms  3 Bedrooms  1,750,000 Egp  \n",
       "223  185 Sqm  2 Bathrooms  3 Bedrooms  1,600,000 Egp  \n",
       "224  400 Sqm  3 Bathrooms  4 Bedrooms  5,000,000 Egp  \n",
       "225  320 Sqm  4 Bathrooms  4 Bedrooms  5,000,000 Egp  \n",
       "226  175 Sqm  2 Bathrooms  2 Bedrooms  1,700,000 Egp  \n",
       "\n",
       "[227 rows x 8 columns]"
      ]
     },
     "execution_count": 3,
     "metadata": {},
     "output_type": "execute_result"
    }
   ],
   "source": [
    "df"
   ]
  },
  {
   "cell_type": "code",
   "execution_count": 4,
   "id": "8d5d3b85",
   "metadata": {},
   "outputs": [],
   "source": [
    "df.drop('Unnamed: 0',axis=1,inplace=True)"
   ]
  },
  {
   "cell_type": "code",
   "execution_count": 5,
   "id": "ebf48017",
   "metadata": {},
   "outputs": [
    {
     "data": {
      "text/html": [
       "<div>\n",
       "<style scoped>\n",
       "    .dataframe tbody tr th:only-of-type {\n",
       "        vertical-align: middle;\n",
       "    }\n",
       "\n",
       "    .dataframe tbody tr th {\n",
       "        vertical-align: top;\n",
       "    }\n",
       "\n",
       "    .dataframe thead th {\n",
       "        text-align: right;\n",
       "    }\n",
       "</style>\n",
       "<table border=\"1\" class=\"dataframe\">\n",
       "  <thead>\n",
       "    <tr style=\"text-align: right;\">\n",
       "      <th></th>\n",
       "      <th>place</th>\n",
       "      <th>properties</th>\n",
       "      <th>finishing_level</th>\n",
       "      <th>area</th>\n",
       "      <th>bathrooms</th>\n",
       "      <th>bedrooms</th>\n",
       "      <th>price</th>\n",
       "    </tr>\n",
       "  </thead>\n",
       "  <tbody>\n",
       "    <tr>\n",
       "      <th>count</th>\n",
       "      <td>227</td>\n",
       "      <td>227</td>\n",
       "      <td>227</td>\n",
       "      <td>227</td>\n",
       "      <td>227</td>\n",
       "      <td>227</td>\n",
       "      <td>227</td>\n",
       "    </tr>\n",
       "    <tr>\n",
       "      <th>unique</th>\n",
       "      <td>20</td>\n",
       "      <td>7</td>\n",
       "      <td>7</td>\n",
       "      <td>85</td>\n",
       "      <td>7</td>\n",
       "      <td>8</td>\n",
       "      <td>86</td>\n",
       "    </tr>\n",
       "    <tr>\n",
       "      <th>top</th>\n",
       "      <td>Maadi,Maadi Sarayat</td>\n",
       "      <td>Apartments</td>\n",
       "      <td>Semi Furnished</td>\n",
       "      <td>300 Sqm</td>\n",
       "      <td>3 Bathrooms</td>\n",
       "      <td>3 Bedrooms</td>\n",
       "      <td>4,500,000 Egp</td>\n",
       "    </tr>\n",
       "    <tr>\n",
       "      <th>freq</th>\n",
       "      <td>108</td>\n",
       "      <td>139</td>\n",
       "      <td>94</td>\n",
       "      <td>17</td>\n",
       "      <td>89</td>\n",
       "      <td>92</td>\n",
       "      <td>12</td>\n",
       "    </tr>\n",
       "  </tbody>\n",
       "</table>\n",
       "</div>"
      ],
      "text/plain": [
       "                      place  properties finishing_level     area    bathrooms  \\\n",
       "count                   227         227             227      227          227   \n",
       "unique                   20           7               7       85            7   \n",
       "top     Maadi,Maadi Sarayat  Apartments  Semi Furnished  300 Sqm  3 Bathrooms   \n",
       "freq                    108         139              94       17           89   \n",
       "\n",
       "          bedrooms          price  \n",
       "count          227            227  \n",
       "unique           8             86  \n",
       "top     3 Bedrooms  4,500,000 Egp  \n",
       "freq            92             12  "
      ]
     },
     "execution_count": 5,
     "metadata": {},
     "output_type": "execute_result"
    }
   ],
   "source": [
    "df.describe()"
   ]
  },
  {
   "cell_type": "code",
   "execution_count": 6,
   "id": "d5497b92",
   "metadata": {},
   "outputs": [
    {
     "name": "stdout",
     "output_type": "stream",
     "text": [
      "<class 'pandas.core.frame.DataFrame'>\n",
      "RangeIndex: 227 entries, 0 to 226\n",
      "Data columns (total 7 columns):\n",
      " #   Column           Non-Null Count  Dtype \n",
      "---  ------           --------------  ----- \n",
      " 0   place            227 non-null    object\n",
      " 1   properties       227 non-null    object\n",
      " 2   finishing_level  227 non-null    object\n",
      " 3   area             227 non-null    object\n",
      " 4   bathrooms        227 non-null    object\n",
      " 5   bedrooms         227 non-null    object\n",
      " 6   price            227 non-null    object\n",
      "dtypes: object(7)\n",
      "memory usage: 12.5+ KB\n"
     ]
    }
   ],
   "source": [
    "df.info()"
   ]
  },
  {
   "cell_type": "markdown",
   "id": "664b63af",
   "metadata": {},
   "source": [
    "### Quality issues\n",
    "- Sqm on area column \n",
    "- Bathrooms on Bathrooms column \n",
    "- Bedrooms on bedrooms column \n",
    "- Egp on price column \n",
    "- Data types\n",
    "\n",
    "### Tidy issues\n",
    "- column place has two values"
   ]
  },
  {
   "cell_type": "markdown",
   "id": "fd117e1d",
   "metadata": {},
   "source": [
    "## Cleaning"
   ]
  },
  {
   "cell_type": "markdown",
   "id": "df093fde",
   "metadata": {},
   "source": [
    "### First Quality issues"
   ]
  },
  {
   "cell_type": "code",
   "execution_count": 7,
   "id": "4a635773",
   "metadata": {},
   "outputs": [],
   "source": [
    "import re"
   ]
  },
  {
   "cell_type": "code",
   "execution_count": 8,
   "id": "21a67030",
   "metadata": {},
   "outputs": [],
   "source": [
    "df['area_in_squared_meters']=df['area'].apply(lambda x : re.search('\\d+',x).group()).astype(int)"
   ]
  },
  {
   "cell_type": "code",
   "execution_count": 9,
   "id": "c135addc",
   "metadata": {},
   "outputs": [],
   "source": [
    "df['price_in_egy']=df['price'].apply(lambda x : str(x).split()[0])"
   ]
  },
  {
   "cell_type": "code",
   "execution_count": 10,
   "id": "8e8935f8",
   "metadata": {},
   "outputs": [],
   "source": [
    "df['bathrooms']=df['bathrooms'].apply(lambda x : re.search('\\d+',x).group()).astype(int)\n",
    "df['bedrooms']=df['bedrooms'].apply(lambda x : re.search('\\d+',x).group()).astype(int)"
   ]
  },
  {
   "cell_type": "code",
   "execution_count": 11,
   "id": "8dfc73fb",
   "metadata": {},
   "outputs": [],
   "source": [
    "df=df.drop(columns=['area','price'])"
   ]
  },
  {
   "cell_type": "code",
   "execution_count": 12,
   "id": "fedf6d49",
   "metadata": {},
   "outputs": [],
   "source": [
    "df['price_in_egy']=df['price_in_egy'].apply(lambda x : x.replace(',','')).astype(int)"
   ]
  },
  {
   "cell_type": "code",
   "execution_count": 13,
   "id": "d4f2e67e",
   "metadata": {},
   "outputs": [
    {
     "data": {
      "text/plain": [
       "place                     object\n",
       "properties                object\n",
       "finishing_level           object\n",
       "bathrooms                  int32\n",
       "bedrooms                   int32\n",
       "area_in_squared_meters     int32\n",
       "price_in_egy               int32\n",
       "dtype: object"
      ]
     },
     "execution_count": 13,
     "metadata": {},
     "output_type": "execute_result"
    }
   ],
   "source": [
    "df.dtypes"
   ]
  },
  {
   "cell_type": "markdown",
   "id": "c75ceac7",
   "metadata": {},
   "source": [
    "All Quality issues done"
   ]
  },
  {
   "cell_type": "markdown",
   "id": "67e94b03",
   "metadata": {},
   "source": [
    "### Tidy issues"
   ]
  },
  {
   "cell_type": "code",
   "execution_count": 14,
   "id": "08436121",
   "metadata": {},
   "outputs": [],
   "source": [
    "df['district']=df['place'].apply(lambda x : x.split(',')[0])\n",
    "df['talukas']=df['place'].apply(lambda x : x.split(',')[1])"
   ]
  },
  {
   "cell_type": "code",
   "execution_count": 15,
   "id": "47cc79a4",
   "metadata": {},
   "outputs": [],
   "source": [
    "df=df.drop(columns='place')"
   ]
  },
  {
   "cell_type": "markdown",
   "id": "291f83ed",
   "metadata": {},
   "source": [
    "# EDA"
   ]
  },
  {
   "cell_type": "code",
   "execution_count": 16,
   "id": "6312ed83",
   "metadata": {},
   "outputs": [],
   "source": [
    "import matplotlib.pyplot as plt\n",
    "import seaborn as sns"
   ]
  },
  {
   "cell_type": "code",
   "execution_count": 17,
   "id": "5593ec5f",
   "metadata": {},
   "outputs": [],
   "source": [
    "sns.set()"
   ]
  },
  {
   "cell_type": "markdown",
   "id": "1d0ef6e7",
   "metadata": {},
   "source": [
    "## Univarite Analysis\n",
    "### Categrical Columns"
   ]
  },
  {
   "cell_type": "code",
   "execution_count": 18,
   "id": "3abc1134",
   "metadata": {},
   "outputs": [
    {
     "data": {
      "image/png": "[encoded data removed]",
      "text/plain": [
       "<Figure size 432x288 with 1 Axes>"
      ]
     },
     "metadata": {
      "needs_background": "light"
     },
     "output_type": "display_data"
    }
   ],
   "source": [
    "df['district'].value_counts().plot(kind='barh');"
   ]
  },
  {
   "cell_type": "markdown",
   "id": "dceecddb",
   "metadata": {},
   "source": [
    "We need Maadi Only "
   ]
  },
  {
   "cell_type": "code",
   "execution_count": 19,
   "id": "51eec8d6",
   "metadata": {},
   "outputs": [],
   "source": [
    "df=df[df['district']=='Maadi']"
   ]
  },
  {
   "cell_type": "code",
   "execution_count": 20,
   "id": "5421a428",
   "metadata": {},
   "outputs": [
    {
     "data": {
      "image/png": "[encoded data removed]",
      "text/plain": [
       "<Figure size 432x288 with 1 Axes>"
      ]
     },
     "metadata": {
      "needs_background": "light"
     },
     "output_type": "display_data"
    }
   ],
   "source": [
    "df['district'].value_counts().plot(kind='barh',width=0.1)\n",
    "plt.xlabel('Frequency')\n",
    "plt.ylabel('district')\n",
    "plt.title('Frequency of district')\n",
    "plt.show()"
   ]
  },
  {
   "cell_type": "code",
   "execution_count": 21,
   "id": "b50fd716",
   "metadata": {},
   "outputs": [
    {
     "data": {
      "image/png": "[encoded data removed]",
      "text/plain": [
       "<Figure size 432x288 with 1 Axes>"
      ]
     },
     "metadata": {
      "needs_background": "light"
     },
     "output_type": "display_data"
    }
   ],
   "source": [
    "df['talukas'].value_counts().plot(kind='barh')\n",
    "plt.xlabel('Frequency')\n",
    "plt.ylabel('Talukas')\n",
    "plt.title('Frequency of talukas')\n",
    "plt.show()"
   ]
  },
  {
   "cell_type": "markdown",
   "id": "ce96afa4",
   "metadata": {},
   "source": [
    "Old Maadi & Maadi Zahraa & Maadi Cornishe & New Maadi Will not help When applying ML Model will be Missclassified or will not choosed on Training Data set so it isn't useful enough we can drop it or we can take more data about it by it will take more time so we do this now by dropping this records\n",
    "\n",
    "## So Limitations for this analysis are Maadi Degla and Maadi Sarayat only"
   ]
  },
  {
   "cell_type": "code",
   "execution_count": 22,
   "id": "11fc6360",
   "metadata": {},
   "outputs": [],
   "source": [
    "df=df[df['talukas'].isin(['Old Maadi','Maadi Zahraa','Maadi Cornishe','New Maadi'])==False]"
   ]
  },
  {
   "cell_type": "code",
   "execution_count": 23,
   "id": "85e2134c",
   "metadata": {},
   "outputs": [
    {
     "data": {
      "image/png": "[encoded data removed]",
      "text/plain": [
       "<Figure size 432x288 with 1 Axes>"
      ]
     },
     "metadata": {
      "needs_background": "light"
     },
     "output_type": "display_data"
    }
   ],
   "source": [
    "df['talukas'].value_counts().plot(kind='barh')\n",
    "plt.xlabel('Frequency')\n",
    "plt.ylabel('Talukas')\n",
    "plt.title('Frequency of talukas')\n",
    "plt.show()"
   ]
  },
  {
   "cell_type": "code",
   "execution_count": 24,
   "id": "724776df",
   "metadata": {},
   "outputs": [
    {
     "data": {
      "text/plain": [
       "Maadi Sarayat    108\n",
       "Maadi Degla       65\n",
       "Name: talukas, dtype: int64"
      ]
     },
     "execution_count": 24,
     "metadata": {},
     "output_type": "execute_result"
    }
   ],
   "source": [
    "df['talukas'].value_counts()"
   ]
  },
  {
   "cell_type": "code",
   "execution_count": 25,
   "id": "9485c0b7",
   "metadata": {},
   "outputs": [
    {
     "data": {
      "text/plain": [
       "Semi Furnished      76\n",
       "Furnished           47\n",
       "Modern Furnished    27\n",
       "Unfurnished         16\n",
       "Finished             6\n",
       "Semi Finished        1\n",
       "Name: finishing_level, dtype: int64"
      ]
     },
     "execution_count": 25,
     "metadata": {},
     "output_type": "execute_result"
    }
   ],
   "source": [
    "df['finishing_level'].value_counts()"
   ]
  },
  {
   "cell_type": "markdown",
   "id": "d291d9d0",
   "metadata": {},
   "source": [
    "New Limitation Semi Finished and Finished will not help us\n",
    "\n",
    "Our Limitations are\n",
    "Unfurnished ,Modern Furnished ,Furnished ,Semi Furnished"
   ]
  },
  {
   "cell_type": "code",
   "execution_count": 26,
   "id": "0ebf030f",
   "metadata": {},
   "outputs": [],
   "source": [
    "df=df[df['finishing_level'].isin(['Semi Finished','Finished'])==False]"
   ]
  },
  {
   "cell_type": "code",
   "execution_count": 27,
   "id": "4b2c0db8",
   "metadata": {},
   "outputs": [
    {
     "data": {
      "text/plain": [
       "Apartments       121\n",
       "Ground Floors     19\n",
       "Duplexes          14\n",
       "Penthouses        13\n",
       "Villas             4\n",
       "Twin Houses        1\n",
       "Name: properties, dtype: int64"
      ]
     },
     "execution_count": 27,
     "metadata": {},
     "output_type": "execute_result"
    }
   ],
   "source": [
    "df['properties'].value_counts()"
   ]
  },
  {
   "cell_type": "markdown",
   "id": "03911362",
   "metadata": {},
   "source": [
    "New Limitation Villas and Twin Houses will not help us\n",
    "\n",
    "Our Limitations are\n",
    "Penthouses ,Duplexes ,Ground Floors ,Apartments"
   ]
  },
  {
   "cell_type": "code",
   "execution_count": 28,
   "id": "93a6cac7",
   "metadata": {},
   "outputs": [],
   "source": [
    "df=df[df['properties'].isin(['Villas','Twin Houses'])==False]"
   ]
  },
  {
   "cell_type": "markdown",
   "id": "8ad72bf1",
   "metadata": {},
   "source": [
    "## Numerical Columns"
   ]
  },
  {
   "cell_type": "code",
   "execution_count": 29,
   "id": "ae3e5b23",
   "metadata": {},
   "outputs": [],
   "source": [
    "Numerical_Columns=[]\n",
    "for _ in df.columns:\n",
    "    if df[_].dtype=='int':\n",
    "        Numerical_Columns.append(_)"
   ]
  },
  {
   "cell_type": "code",
   "execution_count": 30,
   "id": "36177f96",
   "metadata": {},
   "outputs": [
    {
     "data": {
      "image/png": "[encoded data removed]",
      "text/plain": [
       "<Figure size 576x576 with 4 Axes>"
      ]
     },
     "metadata": {
      "needs_background": "light"
     },
     "output_type": "display_data"
    }
   ],
   "source": [
    "fig,ax=plt.subplots(len(Numerical_Columns),1,figsize=(8,8),constrained_layout=True)\n",
    "for _,_1 in zip(Numerical_Columns,ax):\n",
    "    _1.hist(df[_],alpha=0.5)\n",
    "    _1.set_xlabel(_)\n",
    "    _1.set_ylabel('Frequency')\n",
    "    _1.set_title(f\"{_} & Frequency\")\n"
   ]
  },
  {
   "cell_type": "markdown",
   "id": "8d395856",
   "metadata": {},
   "source": [
    "On Prices,area Column there are few Outliers I can Drop them "
   ]
  },
  {
   "cell_type": "code",
   "execution_count": 31,
   "id": "a4d870f3",
   "metadata": {},
   "outputs": [
    {
     "data": {
      "image/png": "[encoded data removed]",
      "text/plain": [
       "<Figure size 576x576 with 4 Axes>"
      ]
     },
     "metadata": {
      "needs_background": "light"
     },
     "output_type": "display_data"
    }
   ],
   "source": [
    "fig,ax=plt.subplots(len(Numerical_Columns),1,figsize=(8,8),constrained_layout=True)\n",
    "for _,_1 in zip(Numerical_Columns,ax):\n",
    "    _1.hist(df[_],alpha=0.5)\n",
    "    _1.set_xlabel(_)\n",
    "    _1.set_ylabel('Frequency')\n",
    "    _1.set_title(f\"{_} & Frequency\")\n"
   ]
  },
  {
   "cell_type": "markdown",
   "id": "96ce53e2",
   "metadata": {},
   "source": [
    "# Bivariate Analysis"
   ]
  },
  {
   "cell_type": "code",
   "execution_count": 32,
   "id": "c72afe1e",
   "metadata": {},
   "outputs": [],
   "source": [
    "X=df.drop('price_in_egy',axis=1)\n",
    "y=df['price_in_egy']\n",
    "Num_Columns=[]\n",
    "Cat_Columns=[]\n",
    "for _ in X.columns:\n",
    "    if X[_].dtype=='int':\n",
    "        Num_Columns.append(_)\n",
    "    else :\n",
    "        Cat_Columns.append(_)"
   ]
  },
  {
   "cell_type": "code",
   "execution_count": 33,
   "id": "b3b3e430",
   "metadata": {},
   "outputs": [
    {
     "data": {
      "image/png": "[encoded data removed]",
      "text/plain": [
       "<Figure size 432x288 with 1 Axes>"
      ]
     },
     "metadata": {
      "needs_background": "light"
     },
     "output_type": "display_data"
    }
   ],
   "source": [
    "plt.scatter(df[Num_Columns[0]],df['price_in_egy'])\n",
    "plt.xlabel('bathrooms')\n",
    "plt.title('bathrooms vs price_in_egy')\n",
    "plt.show()"
   ]
  },
  {
   "cell_type": "code",
   "execution_count": 34,
   "id": "88d99091",
   "metadata": {},
   "outputs": [
    {
     "data": {
      "image/png": "[encoded data removed]",
      "text/plain": [
       "<Figure size 432x288 with 1 Axes>"
      ]
     },
     "metadata": {
      "needs_background": "light"
     },
     "output_type": "display_data"
    }
   ],
   "source": [
    "plt.scatter(df[Num_Columns[1]],df['price_in_egy'])\n",
    "plt.xlabel('bedrooms')\n",
    "plt.title('bedrooms vs price_in_egy')\n",
    "plt.show()"
   ]
  },
  {
   "cell_type": "code",
   "execution_count": 35,
   "id": "02dcdbb9",
   "metadata": {},
   "outputs": [
    {
     "data": {
      "image/png": "[encoded data removed]",
      "text/plain": [
       "<Figure size 432x288 with 1 Axes>"
      ]
     },
     "metadata": {
      "needs_background": "light"
     },
     "output_type": "display_data"
    }
   ],
   "source": [
    "plt.scatter(df[Num_Columns[2]],df['price_in_egy'])\n",
    "plt.xlabel('area_in_squared_meters')\n",
    "plt.title('area_in_squared_meters vs price_in_egy')\n",
    "plt.show()"
   ]
  },
  {
   "cell_type": "markdown",
   "id": "e5a2ce64",
   "metadata": {},
   "source": [
    "Now it's pretty, good views,normal data and positive correlations between label and features"
   ]
  },
  {
   "cell_type": "markdown",
   "id": "7599d77c",
   "metadata": {},
   "source": [
    "# ML"
   ]
  },
  {
   "cell_type": "code",
   "execution_count": 36,
   "id": "bdaaeabd",
   "metadata": {},
   "outputs": [],
   "source": [
    "from sklearn.preprocessing import StandardScaler\n",
    "from sklearn.preprocessing import OneHotEncoder\n",
    "from sklearn.pipeline import Pipeline\n",
    "from sklearn.model_selection import train_test_split\n",
    "from sklearn.model_selection import cross_val_score\n",
    "from sklearn.model_selection import GridSearchCV\n",
    "from sklearn.compose import ColumnTransformer\n",
    "from sklearn.metrics import make_scorer,mean_squared_error,r2_score"
   ]
  },
  {
   "cell_type": "code",
   "execution_count": 37,
   "id": "926ed1c1",
   "metadata": {},
   "outputs": [
    {
     "data": {
      "text/html": [
       "<div>\n",
       "<style scoped>\n",
       "    .dataframe tbody tr th:only-of-type {\n",
       "        vertical-align: middle;\n",
       "    }\n",
       "\n",
       "    .dataframe tbody tr th {\n",
       "        vertical-align: top;\n",
       "    }\n",
       "\n",
       "    .dataframe thead th {\n",
       "        text-align: right;\n",
       "    }\n",
       "</style>\n",
       "<table border=\"1\" class=\"dataframe\">\n",
       "  <thead>\n",
       "    <tr style=\"text-align: right;\">\n",
       "      <th></th>\n",
       "      <th>bathrooms</th>\n",
       "      <th>bedrooms</th>\n",
       "      <th>area_in_squared_meters</th>\n",
       "    </tr>\n",
       "  </thead>\n",
       "  <tbody>\n",
       "    <tr>\n",
       "      <th>0</th>\n",
       "      <td>3</td>\n",
       "      <td>5</td>\n",
       "      <td>320</td>\n",
       "    </tr>\n",
       "    <tr>\n",
       "      <th>1</th>\n",
       "      <td>3</td>\n",
       "      <td>5</td>\n",
       "      <td>700</td>\n",
       "    </tr>\n",
       "    <tr>\n",
       "      <th>2</th>\n",
       "      <td>3</td>\n",
       "      <td>3</td>\n",
       "      <td>220</td>\n",
       "    </tr>\n",
       "    <tr>\n",
       "      <th>4</th>\n",
       "      <td>2</td>\n",
       "      <td>2</td>\n",
       "      <td>190</td>\n",
       "    </tr>\n",
       "    <tr>\n",
       "      <th>5</th>\n",
       "      <td>3</td>\n",
       "      <td>3</td>\n",
       "      <td>300</td>\n",
       "    </tr>\n",
       "    <tr>\n",
       "      <th>...</th>\n",
       "      <td>...</td>\n",
       "      <td>...</td>\n",
       "      <td>...</td>\n",
       "    </tr>\n",
       "    <tr>\n",
       "      <th>221</th>\n",
       "      <td>2</td>\n",
       "      <td>3</td>\n",
       "      <td>165</td>\n",
       "    </tr>\n",
       "    <tr>\n",
       "      <th>222</th>\n",
       "      <td>2</td>\n",
       "      <td>3</td>\n",
       "      <td>225</td>\n",
       "    </tr>\n",
       "    <tr>\n",
       "      <th>223</th>\n",
       "      <td>2</td>\n",
       "      <td>3</td>\n",
       "      <td>185</td>\n",
       "    </tr>\n",
       "    <tr>\n",
       "      <th>224</th>\n",
       "      <td>3</td>\n",
       "      <td>4</td>\n",
       "      <td>400</td>\n",
       "    </tr>\n",
       "    <tr>\n",
       "      <th>225</th>\n",
       "      <td>4</td>\n",
       "      <td>4</td>\n",
       "      <td>320</td>\n",
       "    </tr>\n",
       "  </tbody>\n",
       "</table>\n",
       "<p>167 rows × 3 columns</p>\n",
       "</div>"
      ],
      "text/plain": [
       "     bathrooms  bedrooms  area_in_squared_meters\n",
       "0            3         5                     320\n",
       "1            3         5                     700\n",
       "2            3         3                     220\n",
       "4            2         2                     190\n",
       "5            3         3                     300\n",
       "..         ...       ...                     ...\n",
       "221          2         3                     165\n",
       "222          2         3                     225\n",
       "223          2         3                     185\n",
       "224          3         4                     400\n",
       "225          4         4                     320\n",
       "\n",
       "[167 rows x 3 columns]"
      ]
     },
     "execution_count": 37,
     "metadata": {},
     "output_type": "execute_result"
    }
   ],
   "source": [
    "df[Num_Columns]"
   ]
  },
  {
   "cell_type": "code",
   "execution_count": 38,
   "id": "77afd70e",
   "metadata": {},
   "outputs": [
    {
     "data": {
      "text/html": [
       "<div>\n",
       "<style scoped>\n",
       "    .dataframe tbody tr th:only-of-type {\n",
       "        vertical-align: middle;\n",
       "    }\n",
       "\n",
       "    .dataframe tbody tr th {\n",
       "        vertical-align: top;\n",
       "    }\n",
       "\n",
       "    .dataframe thead th {\n",
       "        text-align: right;\n",
       "    }\n",
       "</style>\n",
       "<table border=\"1\" class=\"dataframe\">\n",
       "  <thead>\n",
       "    <tr style=\"text-align: right;\">\n",
       "      <th></th>\n",
       "      <th>properties</th>\n",
       "      <th>finishing_level</th>\n",
       "      <th>district</th>\n",
       "      <th>talukas</th>\n",
       "    </tr>\n",
       "  </thead>\n",
       "  <tbody>\n",
       "    <tr>\n",
       "      <th>0</th>\n",
       "      <td>Apartments</td>\n",
       "      <td>Semi Furnished</td>\n",
       "      <td>Maadi</td>\n",
       "      <td>Maadi Degla</td>\n",
       "    </tr>\n",
       "    <tr>\n",
       "      <th>1</th>\n",
       "      <td>Penthouses</td>\n",
       "      <td>Semi Furnished</td>\n",
       "      <td>Maadi</td>\n",
       "      <td>Maadi Degla</td>\n",
       "    </tr>\n",
       "    <tr>\n",
       "      <th>2</th>\n",
       "      <td>Apartments</td>\n",
       "      <td>Furnished</td>\n",
       "      <td>Maadi</td>\n",
       "      <td>Maadi Sarayat</td>\n",
       "    </tr>\n",
       "    <tr>\n",
       "      <th>4</th>\n",
       "      <td>Apartments</td>\n",
       "      <td>Modern Furnished</td>\n",
       "      <td>Maadi</td>\n",
       "      <td>Maadi Degla</td>\n",
       "    </tr>\n",
       "    <tr>\n",
       "      <th>5</th>\n",
       "      <td>Ground Floors</td>\n",
       "      <td>Semi Furnished</td>\n",
       "      <td>Maadi</td>\n",
       "      <td>Maadi Sarayat</td>\n",
       "    </tr>\n",
       "    <tr>\n",
       "      <th>...</th>\n",
       "      <td>...</td>\n",
       "      <td>...</td>\n",
       "      <td>...</td>\n",
       "      <td>...</td>\n",
       "    </tr>\n",
       "    <tr>\n",
       "      <th>221</th>\n",
       "      <td>Apartments</td>\n",
       "      <td>Furnished</td>\n",
       "      <td>Maadi</td>\n",
       "      <td>Maadi Degla</td>\n",
       "    </tr>\n",
       "    <tr>\n",
       "      <th>222</th>\n",
       "      <td>Apartments</td>\n",
       "      <td>Furnished</td>\n",
       "      <td>Maadi</td>\n",
       "      <td>Maadi Degla</td>\n",
       "    </tr>\n",
       "    <tr>\n",
       "      <th>223</th>\n",
       "      <td>Apartments</td>\n",
       "      <td>Furnished</td>\n",
       "      <td>Maadi</td>\n",
       "      <td>Maadi Degla</td>\n",
       "    </tr>\n",
       "    <tr>\n",
       "      <th>224</th>\n",
       "      <td>Duplexes</td>\n",
       "      <td>Semi Furnished</td>\n",
       "      <td>Maadi</td>\n",
       "      <td>Maadi Degla</td>\n",
       "    </tr>\n",
       "    <tr>\n",
       "      <th>225</th>\n",
       "      <td>Apartments</td>\n",
       "      <td>Semi Furnished</td>\n",
       "      <td>Maadi</td>\n",
       "      <td>Maadi Sarayat</td>\n",
       "    </tr>\n",
       "  </tbody>\n",
       "</table>\n",
       "<p>167 rows × 4 columns</p>\n",
       "</div>"
      ],
      "text/plain": [
       "        properties   finishing_level district        talukas\n",
       "0       Apartments    Semi Furnished    Maadi    Maadi Degla\n",
       "1       Penthouses    Semi Furnished    Maadi    Maadi Degla\n",
       "2       Apartments        Furnished     Maadi  Maadi Sarayat\n",
       "4       Apartments  Modern Furnished    Maadi    Maadi Degla\n",
       "5    Ground Floors    Semi Furnished    Maadi  Maadi Sarayat\n",
       "..             ...               ...      ...            ...\n",
       "221     Apartments        Furnished     Maadi    Maadi Degla\n",
       "222     Apartments        Furnished     Maadi    Maadi Degla\n",
       "223     Apartments        Furnished     Maadi    Maadi Degla\n",
       "224       Duplexes    Semi Furnished    Maadi    Maadi Degla\n",
       "225     Apartments    Semi Furnished    Maadi  Maadi Sarayat\n",
       "\n",
       "[167 rows x 4 columns]"
      ]
     },
     "execution_count": 38,
     "metadata": {},
     "output_type": "execute_result"
    }
   ],
   "source": [
    "df[Cat_Columns]"
   ]
  },
  {
   "cell_type": "code",
   "execution_count": 39,
   "id": "7f8dbafe",
   "metadata": {},
   "outputs": [],
   "source": [
    "Num_trans=Pipeline([('Scaling',StandardScaler())])\n",
    "Cat_trans=Pipeline([('OneHotEncoding',OneHotEncoder(drop='first'))])"
   ]
  },
  {
   "cell_type": "code",
   "execution_count": 40,
   "id": "f0ca60f2",
   "metadata": {},
   "outputs": [],
   "source": [
    "Preprocessing=ColumnTransformer([('cat',Cat_trans,Cat_Columns),('num',Num_trans,Num_Columns)])"
   ]
  },
  {
   "cell_type": "code",
   "execution_count": 41,
   "id": "15c720d3",
   "metadata": {},
   "outputs": [],
   "source": [
    "X_train,X_test,y_train,y_test=train_test_split(X,y,train_size=0.8,random_state=0)"
   ]
  },
  {
   "cell_type": "code",
   "execution_count": 42,
   "id": "6a854641",
   "metadata": {},
   "outputs": [],
   "source": [
    "First ,third=y_train.quantile(0.25),y_train.quantile(0.75)\n",
    "IQR=1.5*(third-First)\n",
    "low=First-IQR\n",
    "high=third+IQR"
   ]
  },
  {
   "cell_type": "code",
   "execution_count": 43,
   "id": "311250a8",
   "metadata": {},
   "outputs": [],
   "source": [
    "y_train=y_train[(y_train<=high)&(y_train>=low)]\n",
    "y_test=y_test[(y_test<=high)&(y_test>=low)]"
   ]
  },
  {
   "cell_type": "code",
   "execution_count": 44,
   "id": "3c056fb4",
   "metadata": {},
   "outputs": [],
   "source": [
    "X_train=X_train[X_train.index.isin(y_train.index)]\n",
    "X_test=X_test[X_test.index.isin(y_test.index)]"
   ]
  },
  {
   "cell_type": "markdown",
   "id": "bd218255",
   "metadata": {},
   "source": [
    "# BaseLine Model"
   ]
  },
  {
   "cell_type": "code",
   "execution_count": 45,
   "id": "fd8dd819",
   "metadata": {},
   "outputs": [
    {
     "data": {
      "text/plain": [
       "3698916619660.859"
      ]
     },
     "execution_count": 45,
     "metadata": {},
     "output_type": "execute_result"
    }
   ],
   "source": [
    "baseline=mean_squared_error(y_train,[y_train.mean()]*len(y_train))\n",
    "baseline"
   ]
  },
  {
   "cell_type": "code",
   "execution_count": 46,
   "id": "1d20e763",
   "metadata": {},
   "outputs": [],
   "source": [
    "from sklearn.linear_model import Ridge"
   ]
  },
  {
   "cell_type": "code",
   "execution_count": 47,
   "id": "3e965f4c",
   "metadata": {},
   "outputs": [],
   "source": [
    "mse=make_scorer(mean_squared_error)"
   ]
  },
  {
   "cell_type": "code",
   "execution_count": 48,
   "id": "96d9331d",
   "metadata": {},
   "outputs": [],
   "source": [
    "model=Pipeline([('Transformation',Preprocessing),('model',Ridge())])"
   ]
  },
  {
   "cell_type": "code",
   "execution_count": 49,
   "id": "ad975056",
   "metadata": {},
   "outputs": [],
   "source": [
    "cv=cross_val_score(model,X_train,y_train,cv=4,n_jobs=-1,scoring=mse)"
   ]
  },
  {
   "cell_type": "code",
   "execution_count": 50,
   "id": "aa2e1153",
   "metadata": {},
   "outputs": [],
   "source": [
    "cv_mse=np.mean(cv)"
   ]
  },
  {
   "cell_type": "code",
   "execution_count": 51,
   "id": "16bae4b5",
   "metadata": {},
   "outputs": [
    {
     "data": {
      "text/html": [
       "<style>#sk-container-id-1 {color: black;background-color: white;}#sk-container-id-1 pre{padding: 0;}#sk-container-id-1 div.sk-toggleable {background-color: white;}#sk-container-id-1 label.sk-toggleable__label {cursor: pointer;display: block;width: 100%;margin-bottom: 0;padding: 0.3em;box-sizing: border-box;text-align: center;}#sk-container-id-1 label.sk-toggleable__label-arrow:before {content: \"▸\";float: left;margin-right: 0.25em;color: #696969;}#sk-container-id-1 label.sk-toggleable__label-arrow:hover:before {color: black;}#sk-container-id-1 div.sk-estimator:hover label.sk-toggleable__label-arrow:before {color: black;}#sk-container-id-1 div.sk-toggleable__content {max-height: 0;max-width: 0;overflow: hidden;text-align: left;background-color: #f0f8ff;}#sk-container-id-1 div.sk-toggleable__content pre {margin: 0.2em;color: black;border-radius: 0.25em;background-color: #f0f8ff;}#sk-container-id-1 input.sk-toggleable__control:checked~div.sk-toggleable__content {max-height: 200px;max-width: 100%;overflow: auto;}#sk-container-id-1 input.sk-toggleable__control:checked~label.sk-toggleable__label-arrow:before {content: \"▾\";}#sk-container-id-1 div.sk-estimator input.sk-toggleable__control:checked~label.sk-toggleable__label {background-color: #d4ebff;}#sk-container-id-1 div.sk-label input.sk-toggleable__control:checked~label.sk-toggleable__label {background-color: #d4ebff;}#sk-container-id-1 input.sk-hidden--visually {border: 0;clip: rect(1px 1px 1px 1px);clip: rect(1px, 1px, 1px, 1px);height: 1px;margin: -1px;overflow: hidden;padding: 0;position: absolute;width: 1px;}#sk-container-id-1 div.sk-estimator {font-family: monospace;background-color: #f0f8ff;border: 1px dotted black;border-radius: 0.25em;box-sizing: border-box;margin-bottom: 0.5em;}#sk-container-id-1 div.sk-estimator:hover {background-color: #d4ebff;}#sk-container-id-1 div.sk-parallel-item::after {content: \"\";width: 100%;border-bottom: 1px solid gray;flex-grow: 1;}#sk-container-id-1 div.sk-label:hover label.sk-toggleable__label {background-color: #d4ebff;}#sk-container-id-1 div.sk-serial::before {content: \"\";position: absolute;border-left: 1px solid gray;box-sizing: border-box;top: 0;bottom: 0;left: 50%;z-index: 0;}#sk-container-id-1 div.sk-serial {display: flex;flex-direction: column;align-items: center;background-color: white;padding-right: 0.2em;padding-left: 0.2em;position: relative;}#sk-container-id-1 div.sk-item {position: relative;z-index: 1;}#sk-container-id-1 div.sk-parallel {display: flex;align-items: stretch;justify-content: center;background-color: white;position: relative;}#sk-container-id-1 div.sk-item::before, #sk-container-id-1 div.sk-parallel-item::before {content: \"\";position: absolute;border-left: 1px solid gray;box-sizing: border-box;top: 0;bottom: 0;left: 50%;z-index: -1;}#sk-container-id-1 div.sk-parallel-item {display: flex;flex-direction: column;z-index: 1;position: relative;background-color: white;}#sk-container-id-1 div.sk-parallel-item:first-child::after {align-self: flex-end;width: 50%;}#sk-container-id-1 div.sk-parallel-item:last-child::after {align-self: flex-start;width: 50%;}#sk-container-id-1 div.sk-parallel-item:only-child::after {width: 0;}#sk-container-id-1 div.sk-dashed-wrapped {border: 1px dashed gray;margin: 0 0.4em 0.5em 0.4em;box-sizing: border-box;padding-bottom: 0.4em;background-color: white;}#sk-container-id-1 div.sk-label label {font-family: monospace;font-weight: bold;display: inline-block;line-height: 1.2em;}#sk-container-id-1 div.sk-label-container {text-align: center;}#sk-container-id-1 div.sk-container {/* jupyter's `normalize.less` sets `[hidden] { display: none; }` but bootstrap.min.css set `[hidden] { display: none !important; }` so we also need the `!important` here to be able to override the default hidden behavior on the sphinx rendered scikit-learn.org. See: https://github.com/scikit-learn/scikit-learn/issues/21755 */display: inline-block !important;position: relative;}#sk-container-id-1 div.sk-text-repr-fallback {display: none;}</style><div id=\"sk-container-id-1\" class=\"sk-top-container\"><div class=\"sk-text-repr-fallback\"><pre>Pipeline(steps=[(&#x27;Transformation&#x27;,\n",
       "                 ColumnTransformer(transformers=[(&#x27;cat&#x27;,\n",
       "                                                  Pipeline(steps=[(&#x27;OneHotEncoding&#x27;,\n",
       "                                                                   OneHotEncoder(drop=&#x27;first&#x27;))]),\n",
       "                                                  [&#x27;properties&#x27;,\n",
       "                                                   &#x27;finishing_level&#x27;,\n",
       "                                                   &#x27;district&#x27;, &#x27;talukas&#x27;]),\n",
       "                                                 (&#x27;num&#x27;,\n",
       "                                                  Pipeline(steps=[(&#x27;Scaling&#x27;,\n",
       "                                                                   StandardScaler())]),\n",
       "                                                  [&#x27;bathrooms&#x27;, &#x27;bedrooms&#x27;,\n",
       "                                                   &#x27;area_in_squared_meters&#x27;])])),\n",
       "                (&#x27;model&#x27;, Ridge())])</pre><b>In a Jupyter environment, please rerun this cell to show the HTML representation or trust the notebook. <br />On GitHub, the HTML representation is unable to render, please try loading this page with nbviewer.org.</b></div><div class=\"sk-container\" hidden><div class=\"sk-item sk-dashed-wrapped\"><div class=\"sk-label-container\"><div class=\"sk-label sk-toggleable\"><input class=\"sk-toggleable__control sk-hidden--visually\" id=\"sk-estimator-id-1\" type=\"checkbox\" ><label for=\"sk-estimator-id-1\" class=\"sk-toggleable__label sk-toggleable__label-arrow\">Pipeline</label><div class=\"sk-toggleable__content\"><pre>Pipeline(steps=[(&#x27;Transformation&#x27;,\n",
       "                 ColumnTransformer(transformers=[(&#x27;cat&#x27;,\n",
       "                                                  Pipeline(steps=[(&#x27;OneHotEncoding&#x27;,\n",
       "                                                                   OneHotEncoder(drop=&#x27;first&#x27;))]),\n",
       "                                                  [&#x27;properties&#x27;,\n",
       "                                                   &#x27;finishing_level&#x27;,\n",
       "                                                   &#x27;district&#x27;, &#x27;talukas&#x27;]),\n",
       "                                                 (&#x27;num&#x27;,\n",
       "                                                  Pipeline(steps=[(&#x27;Scaling&#x27;,\n",
       "                                                                   StandardScaler())]),\n",
       "                                                  [&#x27;bathrooms&#x27;, &#x27;bedrooms&#x27;,\n",
       "                                                   &#x27;area_in_squared_meters&#x27;])])),\n",
       "                (&#x27;model&#x27;, Ridge())])</pre></div></div></div><div class=\"sk-serial\"><div class=\"sk-item sk-dashed-wrapped\"><div class=\"sk-label-container\"><div class=\"sk-label sk-toggleable\"><input class=\"sk-toggleable__control sk-hidden--visually\" id=\"sk-estimator-id-2\" type=\"checkbox\" ><label for=\"sk-estimator-id-2\" class=\"sk-toggleable__label sk-toggleable__label-arrow\">Transformation: ColumnTransformer</label><div class=\"sk-toggleable__content\"><pre>ColumnTransformer(transformers=[(&#x27;cat&#x27;,\n",
       "                                 Pipeline(steps=[(&#x27;OneHotEncoding&#x27;,\n",
       "                                                  OneHotEncoder(drop=&#x27;first&#x27;))]),\n",
       "                                 [&#x27;properties&#x27;, &#x27;finishing_level&#x27;, &#x27;district&#x27;,\n",
       "                                  &#x27;talukas&#x27;]),\n",
       "                                (&#x27;num&#x27;,\n",
       "                                 Pipeline(steps=[(&#x27;Scaling&#x27;,\n",
       "                                                  StandardScaler())]),\n",
       "                                 [&#x27;bathrooms&#x27;, &#x27;bedrooms&#x27;,\n",
       "                                  &#x27;area_in_squared_meters&#x27;])])</pre></div></div></div><div class=\"sk-parallel\"><div class=\"sk-parallel-item\"><div class=\"sk-item\"><div class=\"sk-label-container\"><div class=\"sk-label sk-toggleable\"><input class=\"sk-toggleable__control sk-hidden--visually\" id=\"sk-estimator-id-3\" type=\"checkbox\" ><label for=\"sk-estimator-id-3\" class=\"sk-toggleable__label sk-toggleable__label-arrow\">cat</label><div class=\"sk-toggleable__content\"><pre>[&#x27;properties&#x27;, &#x27;finishing_level&#x27;, &#x27;district&#x27;, &#x27;talukas&#x27;]</pre></div></div></div><div class=\"sk-serial\"><div class=\"sk-item\"><div class=\"sk-serial\"><div class=\"sk-item\"><div class=\"sk-estimator sk-toggleable\"><input class=\"sk-toggleable__control sk-hidden--visually\" id=\"sk-estimator-id-4\" type=\"checkbox\" ><label for=\"sk-estimator-id-4\" class=\"sk-toggleable__label sk-toggleable__label-arrow\">OneHotEncoder</label><div class=\"sk-toggleable__content\"><pre>OneHotEncoder(drop=&#x27;first&#x27;)</pre></div></div></div></div></div></div></div></div><div class=\"sk-parallel-item\"><div class=\"sk-item\"><div class=\"sk-label-container\"><div class=\"sk-label sk-toggleable\"><input class=\"sk-toggleable__control sk-hidden--visually\" id=\"sk-estimator-id-5\" type=\"checkbox\" ><label for=\"sk-estimator-id-5\" class=\"sk-toggleable__label sk-toggleable__label-arrow\">num</label><div class=\"sk-toggleable__content\"><pre>[&#x27;bathrooms&#x27;, &#x27;bedrooms&#x27;, &#x27;area_in_squared_meters&#x27;]</pre></div></div></div><div class=\"sk-serial\"><div class=\"sk-item\"><div class=\"sk-serial\"><div class=\"sk-item\"><div class=\"sk-estimator sk-toggleable\"><input class=\"sk-toggleable__control sk-hidden--visually\" id=\"sk-estimator-id-6\" type=\"checkbox\" ><label for=\"sk-estimator-id-6\" class=\"sk-toggleable__label sk-toggleable__label-arrow\">StandardScaler</label><div class=\"sk-toggleable__content\"><pre>StandardScaler()</pre></div></div></div></div></div></div></div></div></div></div><div class=\"sk-item\"><div class=\"sk-estimator sk-toggleable\"><input class=\"sk-toggleable__control sk-hidden--visually\" id=\"sk-estimator-id-7\" type=\"checkbox\" ><label for=\"sk-estimator-id-7\" class=\"sk-toggleable__label sk-toggleable__label-arrow\">Ridge</label><div class=\"sk-toggleable__content\"><pre>Ridge()</pre></div></div></div></div></div></div></div>"
      ],
      "text/plain": [
       "Pipeline(steps=[('Transformation',\n",
       "                 ColumnTransformer(transformers=[('cat',\n",
       "                                                  Pipeline(steps=[('OneHotEncoding',\n",
       "                                                                   OneHotEncoder(drop='first'))]),\n",
       "                                                  ['properties',\n",
       "                                                   'finishing_level',\n",
       "                                                   'district', 'talukas']),\n",
       "                                                 ('num',\n",
       "                                                  Pipeline(steps=[('Scaling',\n",
       "                                                                   StandardScaler())]),\n",
       "                                                  ['bathrooms', 'bedrooms',\n",
       "                                                   'area_in_squared_meters'])])),\n",
       "                ('model', Ridge())])"
      ]
     },
     "execution_count": 51,
     "metadata": {},
     "output_type": "execute_result"
    }
   ],
   "source": [
    "model.fit(X_train,y_train)"
   ]
  },
  {
   "cell_type": "code",
   "execution_count": 52,
   "id": "2aec06ad",
   "metadata": {},
   "outputs": [],
   "source": [
    "train_mse=mean_squared_error(y_train,model.predict(X_train))"
   ]
  },
  {
   "cell_type": "markdown",
   "id": "e222e76c",
   "metadata": {},
   "source": [
    "# Evaluate "
   ]
  },
  {
   "cell_type": "code",
   "execution_count": 53,
   "id": "65aeb819",
   "metadata": {},
   "outputs": [
    {
     "data": {
      "image/png": "[encoded data removed]",
      "text/plain": [
       "<Figure size 432x288 with 1 Axes>"
      ]
     },
     "metadata": {
      "needs_background": "light"
     },
     "output_type": "display_data"
    }
   ],
   "source": [
    "plt.axhline(baseline,color='red')\n",
    "plt.axhline(train_mse,color='blue')\n",
    "plt.axhline(cv_mse,color='blue')\n",
    "plt.show()"
   ]
  },
  {
   "cell_type": "markdown",
   "id": "896c51a6",
   "metadata": {},
   "source": [
    "Our Model Performs well \n",
    "cross validation and training msq are less than Baseline Model"
   ]
  },
  {
   "cell_type": "markdown",
   "id": "1bdaeb00",
   "metadata": {},
   "source": [
    "# Predict"
   ]
  },
  {
   "cell_type": "code",
   "execution_count": 54,
   "id": "cda65b7c",
   "metadata": {},
   "outputs": [
    {
     "data": {
      "image/png": "[encoded data removed]",
      "text/plain": [
       "<Figure size 432x288 with 1 Axes>"
      ]
     },
     "metadata": {
      "needs_background": "light"
     },
     "output_type": "display_data"
    }
   ],
   "source": [
    "plt.axhline(baseline,color='red')\n",
    "plt.axhline(train_mse,color='black')\n",
    "plt.axhline(cv_mse,color='purple')\n",
    "plt.axhline(mean_squared_error(y_test,model.predict(X_test)),color='green')\n",
    "plt.show()\n"
   ]
  },
  {
   "cell_type": "markdown",
   "id": "acf689a4",
   "metadata": {},
   "source": [
    "Testset also perform very well "
   ]
  },
  {
   "cell_type": "markdown",
   "id": "9626ce18",
   "metadata": {},
   "source": [
    "# tunning our model"
   ]
  },
  {
   "cell_type": "code",
   "execution_count": 55,
   "id": "3f874357",
   "metadata": {},
   "outputs": [
    {
     "data": {
      "text/html": [
       "<style>#sk-container-id-2 {color: black;background-color: white;}#sk-container-id-2 pre{padding: 0;}#sk-container-id-2 div.sk-toggleable {background-color: white;}#sk-container-id-2 label.sk-toggleable__label {cursor: pointer;display: block;width: 100%;margin-bottom: 0;padding: 0.3em;box-sizing: border-box;text-align: center;}#sk-container-id-2 label.sk-toggleable__label-arrow:before {content: \"▸\";float: left;margin-right: 0.25em;color: #696969;}#sk-container-id-2 label.sk-toggleable__label-arrow:hover:before {color: black;}#sk-container-id-2 div.sk-estimator:hover label.sk-toggleable__label-arrow:before {color: black;}#sk-container-id-2 div.sk-toggleable__content {max-height: 0;max-width: 0;overflow: hidden;text-align: left;background-color: #f0f8ff;}#sk-container-id-2 div.sk-toggleable__content pre {margin: 0.2em;color: black;border-radius: 0.25em;background-color: #f0f8ff;}#sk-container-id-2 input.sk-toggleable__control:checked~div.sk-toggleable__content {max-height: 200px;max-width: 100%;overflow: auto;}#sk-container-id-2 input.sk-toggleable__control:checked~label.sk-toggleable__label-arrow:before {content: \"▾\";}#sk-container-id-2 div.sk-estimator input.sk-toggleable__control:checked~label.sk-toggleable__label {background-color: #d4ebff;}#sk-container-id-2 div.sk-label input.sk-toggleable__control:checked~label.sk-toggleable__label {background-color: #d4ebff;}#sk-container-id-2 input.sk-hidden--visually {border: 0;clip: rect(1px 1px 1px 1px);clip: rect(1px, 1px, 1px, 1px);height: 1px;margin: -1px;overflow: hidden;padding: 0;position: absolute;width: 1px;}#sk-container-id-2 div.sk-estimator {font-family: monospace;background-color: #f0f8ff;border: 1px dotted black;border-radius: 0.25em;box-sizing: border-box;margin-bottom: 0.5em;}#sk-container-id-2 div.sk-estimator:hover {background-color: #d4ebff;}#sk-container-id-2 div.sk-parallel-item::after {content: \"\";width: 100%;border-bottom: 1px solid gray;flex-grow: 1;}#sk-container-id-2 div.sk-label:hover label.sk-toggleable__label {background-color: #d4ebff;}#sk-container-id-2 div.sk-serial::before {content: \"\";position: absolute;border-left: 1px solid gray;box-sizing: border-box;top: 0;bottom: 0;left: 50%;z-index: 0;}#sk-container-id-2 div.sk-serial {display: flex;flex-direction: column;align-items: center;background-color: white;padding-right: 0.2em;padding-left: 0.2em;position: relative;}#sk-container-id-2 div.sk-item {position: relative;z-index: 1;}#sk-container-id-2 div.sk-parallel {display: flex;align-items: stretch;justify-content: center;background-color: white;position: relative;}#sk-container-id-2 div.sk-item::before, #sk-container-id-2 div.sk-parallel-item::before {content: \"\";position: absolute;border-left: 1px solid gray;box-sizing: border-box;top: 0;bottom: 0;left: 50%;z-index: -1;}#sk-container-id-2 div.sk-parallel-item {display: flex;flex-direction: column;z-index: 1;position: relative;background-color: white;}#sk-container-id-2 div.sk-parallel-item:first-child::after {align-self: flex-end;width: 50%;}#sk-container-id-2 div.sk-parallel-item:last-child::after {align-self: flex-start;width: 50%;}#sk-container-id-2 div.sk-parallel-item:only-child::after {width: 0;}#sk-container-id-2 div.sk-dashed-wrapped {border: 1px dashed gray;margin: 0 0.4em 0.5em 0.4em;box-sizing: border-box;padding-bottom: 0.4em;background-color: white;}#sk-container-id-2 div.sk-label label {font-family: monospace;font-weight: bold;display: inline-block;line-height: 1.2em;}#sk-container-id-2 div.sk-label-container {text-align: center;}#sk-container-id-2 div.sk-container {/* jupyter's `normalize.less` sets `[hidden] { display: none; }` but bootstrap.min.css set `[hidden] { display: none !important; }` so we also need the `!important` here to be able to override the default hidden behavior on the sphinx rendered scikit-learn.org. See: https://github.com/scikit-learn/scikit-learn/issues/21755 */display: inline-block !important;position: relative;}#sk-container-id-2 div.sk-text-repr-fallback {display: none;}</style><div id=\"sk-container-id-2\" class=\"sk-top-container\"><div class=\"sk-text-repr-fallback\"><pre>GridSearchCV(estimator=Pipeline(steps=[(&#x27;Transformation&#x27;,\n",
       "                                        ColumnTransformer(transformers=[(&#x27;cat&#x27;,\n",
       "                                                                         Pipeline(steps=[(&#x27;OneHotEncoding&#x27;,\n",
       "                                                                                          OneHotEncoder(drop=&#x27;first&#x27;))]),\n",
       "                                                                         [&#x27;properties&#x27;,\n",
       "                                                                          &#x27;finishing_level&#x27;,\n",
       "                                                                          &#x27;district&#x27;,\n",
       "                                                                          &#x27;talukas&#x27;]),\n",
       "                                                                        (&#x27;num&#x27;,\n",
       "                                                                         Pipeline(steps=[(&#x27;Scaling&#x27;,\n",
       "                                                                                          StandardScaler())]),\n",
       "                                                                         [&#x27;bathrooms&#x27;,\n",
       "                                                                          &#x27;bedrooms&#x27;,\n",
       "                                                                          &#x27;area_in_squared_meters&#x27;])])),\n",
       "                                       (&#x27;model&#x27;, Ridge())]),\n",
       "             n_jobs=-1,\n",
       "             param_grid={&#x27;model__alpha&#x27;: [1e-05, 0.0001, 0.001, 0.01, 0.1]},\n",
       "             scoring=make_scorer(mean_squared_error))</pre><b>In a Jupyter environment, please rerun this cell to show the HTML representation or trust the notebook. <br />On GitHub, the HTML representation is unable to render, please try loading this page with nbviewer.org.</b></div><div class=\"sk-container\" hidden><div class=\"sk-item sk-dashed-wrapped\"><div class=\"sk-label-container\"><div class=\"sk-label sk-toggleable\"><input class=\"sk-toggleable__control sk-hidden--visually\" id=\"sk-estimator-id-8\" type=\"checkbox\" ><label for=\"sk-estimator-id-8\" class=\"sk-toggleable__label sk-toggleable__label-arrow\">GridSearchCV</label><div class=\"sk-toggleable__content\"><pre>GridSearchCV(estimator=Pipeline(steps=[(&#x27;Transformation&#x27;,\n",
       "                                        ColumnTransformer(transformers=[(&#x27;cat&#x27;,\n",
       "                                                                         Pipeline(steps=[(&#x27;OneHotEncoding&#x27;,\n",
       "                                                                                          OneHotEncoder(drop=&#x27;first&#x27;))]),\n",
       "                                                                         [&#x27;properties&#x27;,\n",
       "                                                                          &#x27;finishing_level&#x27;,\n",
       "                                                                          &#x27;district&#x27;,\n",
       "                                                                          &#x27;talukas&#x27;]),\n",
       "                                                                        (&#x27;num&#x27;,\n",
       "                                                                         Pipeline(steps=[(&#x27;Scaling&#x27;,\n",
       "                                                                                          StandardScaler())]),\n",
       "                                                                         [&#x27;bathrooms&#x27;,\n",
       "                                                                          &#x27;bedrooms&#x27;,\n",
       "                                                                          &#x27;area_in_squared_meters&#x27;])])),\n",
       "                                       (&#x27;model&#x27;, Ridge())]),\n",
       "             n_jobs=-1,\n",
       "             param_grid={&#x27;model__alpha&#x27;: [1e-05, 0.0001, 0.001, 0.01, 0.1]},\n",
       "             scoring=make_scorer(mean_squared_error))</pre></div></div></div><div class=\"sk-parallel\"><div class=\"sk-parallel-item\"><div class=\"sk-item\"><div class=\"sk-label-container\"><div class=\"sk-label sk-toggleable\"><input class=\"sk-toggleable__control sk-hidden--visually\" id=\"sk-estimator-id-9\" type=\"checkbox\" ><label for=\"sk-estimator-id-9\" class=\"sk-toggleable__label sk-toggleable__label-arrow\">estimator: Pipeline</label><div class=\"sk-toggleable__content\"><pre>Pipeline(steps=[(&#x27;Transformation&#x27;,\n",
       "                 ColumnTransformer(transformers=[(&#x27;cat&#x27;,\n",
       "                                                  Pipeline(steps=[(&#x27;OneHotEncoding&#x27;,\n",
       "                                                                   OneHotEncoder(drop=&#x27;first&#x27;))]),\n",
       "                                                  [&#x27;properties&#x27;,\n",
       "                                                   &#x27;finishing_level&#x27;,\n",
       "                                                   &#x27;district&#x27;, &#x27;talukas&#x27;]),\n",
       "                                                 (&#x27;num&#x27;,\n",
       "                                                  Pipeline(steps=[(&#x27;Scaling&#x27;,\n",
       "                                                                   StandardScaler())]),\n",
       "                                                  [&#x27;bathrooms&#x27;, &#x27;bedrooms&#x27;,\n",
       "                                                   &#x27;area_in_squared_meters&#x27;])])),\n",
       "                (&#x27;model&#x27;, Ridge())])</pre></div></div></div><div class=\"sk-serial\"><div class=\"sk-item\"><div class=\"sk-serial\"><div class=\"sk-item sk-dashed-wrapped\"><div class=\"sk-label-container\"><div class=\"sk-label sk-toggleable\"><input class=\"sk-toggleable__control sk-hidden--visually\" id=\"sk-estimator-id-10\" type=\"checkbox\" ><label for=\"sk-estimator-id-10\" class=\"sk-toggleable__label sk-toggleable__label-arrow\">Transformation: ColumnTransformer</label><div class=\"sk-toggleable__content\"><pre>ColumnTransformer(transformers=[(&#x27;cat&#x27;,\n",
       "                                 Pipeline(steps=[(&#x27;OneHotEncoding&#x27;,\n",
       "                                                  OneHotEncoder(drop=&#x27;first&#x27;))]),\n",
       "                                 [&#x27;properties&#x27;, &#x27;finishing_level&#x27;, &#x27;district&#x27;,\n",
       "                                  &#x27;talukas&#x27;]),\n",
       "                                (&#x27;num&#x27;,\n",
       "                                 Pipeline(steps=[(&#x27;Scaling&#x27;,\n",
       "                                                  StandardScaler())]),\n",
       "                                 [&#x27;bathrooms&#x27;, &#x27;bedrooms&#x27;,\n",
       "                                  &#x27;area_in_squared_meters&#x27;])])</pre></div></div></div><div class=\"sk-parallel\"><div class=\"sk-parallel-item\"><div class=\"sk-item\"><div class=\"sk-label-container\"><div class=\"sk-label sk-toggleable\"><input class=\"sk-toggleable__control sk-hidden--visually\" id=\"sk-estimator-id-11\" type=\"checkbox\" ><label for=\"sk-estimator-id-11\" class=\"sk-toggleable__label sk-toggleable__label-arrow\">cat</label><div class=\"sk-toggleable__content\"><pre>[&#x27;properties&#x27;, &#x27;finishing_level&#x27;, &#x27;district&#x27;, &#x27;talukas&#x27;]</pre></div></div></div><div class=\"sk-serial\"><div class=\"sk-item\"><div class=\"sk-serial\"><div class=\"sk-item\"><div class=\"sk-estimator sk-toggleable\"><input class=\"sk-toggleable__control sk-hidden--visually\" id=\"sk-estimator-id-12\" type=\"checkbox\" ><label for=\"sk-estimator-id-12\" class=\"sk-toggleable__label sk-toggleable__label-arrow\">OneHotEncoder</label><div class=\"sk-toggleable__content\"><pre>OneHotEncoder(drop=&#x27;first&#x27;)</pre></div></div></div></div></div></div></div></div><div class=\"sk-parallel-item\"><div class=\"sk-item\"><div class=\"sk-label-container\"><div class=\"sk-label sk-toggleable\"><input class=\"sk-toggleable__control sk-hidden--visually\" id=\"sk-estimator-id-13\" type=\"checkbox\" ><label for=\"sk-estimator-id-13\" class=\"sk-toggleable__label sk-toggleable__label-arrow\">num</label><div class=\"sk-toggleable__content\"><pre>[&#x27;bathrooms&#x27;, &#x27;bedrooms&#x27;, &#x27;area_in_squared_meters&#x27;]</pre></div></div></div><div class=\"sk-serial\"><div class=\"sk-item\"><div class=\"sk-serial\"><div class=\"sk-item\"><div class=\"sk-estimator sk-toggleable\"><input class=\"sk-toggleable__control sk-hidden--visually\" id=\"sk-estimator-id-14\" type=\"checkbox\" ><label for=\"sk-estimator-id-14\" class=\"sk-toggleable__label sk-toggleable__label-arrow\">StandardScaler</label><div class=\"sk-toggleable__content\"><pre>StandardScaler()</pre></div></div></div></div></div></div></div></div></div></div><div class=\"sk-item\"><div class=\"sk-estimator sk-toggleable\"><input class=\"sk-toggleable__control sk-hidden--visually\" id=\"sk-estimator-id-15\" type=\"checkbox\" ><label for=\"sk-estimator-id-15\" class=\"sk-toggleable__label sk-toggleable__label-arrow\">Ridge</label><div class=\"sk-toggleable__content\"><pre>Ridge()</pre></div></div></div></div></div></div></div></div></div></div></div></div>"
      ],
      "text/plain": [
       "GridSearchCV(estimator=Pipeline(steps=[('Transformation',\n",
       "                                        ColumnTransformer(transformers=[('cat',\n",
       "                                                                         Pipeline(steps=[('OneHotEncoding',\n",
       "                                                                                          OneHotEncoder(drop='first'))]),\n",
       "                                                                         ['properties',\n",
       "                                                                          'finishing_level',\n",
       "                                                                          'district',\n",
       "                                                                          'talukas']),\n",
       "                                                                        ('num',\n",
       "                                                                         Pipeline(steps=[('Scaling',\n",
       "                                                                                          StandardScaler())]),\n",
       "                                                                         ['bathrooms',\n",
       "                                                                          'bedrooms',\n",
       "                                                                          'area_in_squared_meters'])])),\n",
       "                                       ('model', Ridge())]),\n",
       "             n_jobs=-1,\n",
       "             param_grid={'model__alpha': [1e-05, 0.0001, 0.001, 0.01, 0.1]},\n",
       "             scoring=make_scorer(mean_squared_error))"
      ]
     },
     "execution_count": 55,
     "metadata": {},
     "output_type": "execute_result"
    }
   ],
   "source": [
    "param_grid=dict(model__alpha=[0.00001,0.0001,0.001,0.01,0.1])\n",
    "GS=GridSearchCV(model,param_grid=param_grid,scoring=mse,n_jobs=-1)\n",
    "GS.fit(X_train,y_train)"
   ]
  },
  {
   "cell_type": "code",
   "execution_count": 56,
   "id": "a75243ac",
   "metadata": {},
   "outputs": [
    {
     "data": {
      "text/plain": [
       "{'model__alpha': 1e-05}"
      ]
     },
     "execution_count": 56,
     "metadata": {},
     "output_type": "execute_result"
    }
   ],
   "source": [
    "GS.best_params_"
   ]
  },
  {
   "cell_type": "code",
   "execution_count": 57,
   "id": "88cc6efc",
   "metadata": {},
   "outputs": [
    {
     "data": {
      "image/png": "[encoded data removed]",
      "text/plain": [
       "<Figure size 432x288 with 1 Axes>"
      ]
     },
     "metadata": {
      "needs_background": "light"
     },
     "output_type": "display_data"
    }
   ],
   "source": [
    "plt.axhline(mean_squared_error(y_test,model.predict(X_test)),color='green')\n",
    "plt.axhline(mean_squared_error(y_test,GS.predict(X_test)),color='purple')\n",
    "plt.show()"
   ]
  },
  {
   "cell_type": "code",
   "execution_count": 58,
   "id": "6212254c",
   "metadata": {},
   "outputs": [],
   "source": [
    "df1=pd.DataFrame({'predicts':GS.predict(X_test),'actual_values':y_test})"
   ]
  },
  {
   "cell_type": "code",
   "execution_count": 59,
   "id": "cf15733f",
   "metadata": {},
   "outputs": [],
   "source": [
    "import seaborn as sns"
   ]
  },
  {
   "cell_type": "code",
   "execution_count": 60,
   "id": "2a0c31d1",
   "metadata": {},
   "outputs": [
    {
     "data": {
      "image/png": "[encoded data removed]",
      "text/plain": [
       "<Figure size 432x288 with 1 Axes>"
      ]
     },
     "metadata": {
      "needs_background": "light"
     },
     "output_type": "display_data"
    }
   ],
   "source": [
    "ax=sns.kdeplot(df1['predicts'])\n",
    "sns.kdeplot(df1['actual_values'],ax=ax)\n",
    "plt.show()"
   ]
  },
  {
   "cell_type": "markdown",
   "id": "8250dc1e",
   "metadata": {},
   "source": [
    "# Check For Multicolinearity"
   ]
  },
  {
   "cell_type": "code",
   "execution_count": 61,
   "id": "b7469e9a",
   "metadata": {},
   "outputs": [],
   "source": [
    "VIFS=pd.get_dummies(X,drop_first=True)"
   ]
  },
  {
   "cell_type": "code",
   "execution_count": 62,
   "id": "9f9abe49",
   "metadata": {},
   "outputs": [],
   "source": [
    "from statsmodels.stats.outliers_influence import variance_inflation_factor\n",
    "# VIF dataframe\n",
    "VIFS=pd.get_dummies(X,drop_first=True)\n",
    "vif_data = pd.DataFrame()\n",
    "vif_data[\"feature\"] = VIFS.columns\n",
    "  \n",
    "# calculating VIF for each feature\n",
    "vif_data[\"VIF\"] = [variance_inflation_factor(VIFS.values, i)\n",
    "                          for i in range(len(VIFS.columns))]\n",
    "  "
   ]
  },
  {
   "cell_type": "code",
   "execution_count": 63,
   "id": "48b3c00b",
   "metadata": {},
   "outputs": [
    {
     "data": {
      "text/html": [
       "<div>\n",
       "<style scoped>\n",
       "    .dataframe tbody tr th:only-of-type {\n",
       "        vertical-align: middle;\n",
       "    }\n",
       "\n",
       "    .dataframe tbody tr th {\n",
       "        vertical-align: top;\n",
       "    }\n",
       "\n",
       "    .dataframe thead th {\n",
       "        text-align: right;\n",
       "    }\n",
       "</style>\n",
       "<table border=\"1\" class=\"dataframe\">\n",
       "  <thead>\n",
       "    <tr style=\"text-align: right;\">\n",
       "      <th></th>\n",
       "      <th>feature</th>\n",
       "      <th>VIF</th>\n",
       "    </tr>\n",
       "  </thead>\n",
       "  <tbody>\n",
       "    <tr>\n",
       "      <th>0</th>\n",
       "      <td>bathrooms</td>\n",
       "      <td>22.613610</td>\n",
       "    </tr>\n",
       "    <tr>\n",
       "      <th>1</th>\n",
       "      <td>bedrooms</td>\n",
       "      <td>36.979350</td>\n",
       "    </tr>\n",
       "    <tr>\n",
       "      <th>2</th>\n",
       "      <td>area_in_squared_meters</td>\n",
       "      <td>23.884832</td>\n",
       "    </tr>\n",
       "    <tr>\n",
       "      <th>3</th>\n",
       "      <td>properties_Duplexes</td>\n",
       "      <td>1.301972</td>\n",
       "    </tr>\n",
       "    <tr>\n",
       "      <th>4</th>\n",
       "      <td>properties_Ground Floors</td>\n",
       "      <td>1.247281</td>\n",
       "    </tr>\n",
       "    <tr>\n",
       "      <th>5</th>\n",
       "      <td>properties_Penthouses</td>\n",
       "      <td>2.022328</td>\n",
       "    </tr>\n",
       "    <tr>\n",
       "      <th>6</th>\n",
       "      <td>finishing_level_Furnished</td>\n",
       "      <td>4.248219</td>\n",
       "    </tr>\n",
       "    <tr>\n",
       "      <th>7</th>\n",
       "      <td>finishing_level_Modern Furnished</td>\n",
       "      <td>2.546171</td>\n",
       "    </tr>\n",
       "    <tr>\n",
       "      <th>8</th>\n",
       "      <td>finishing_level_Semi Furnished</td>\n",
       "      <td>6.654923</td>\n",
       "    </tr>\n",
       "    <tr>\n",
       "      <th>9</th>\n",
       "      <td>finishing_level_Unfurnished</td>\n",
       "      <td>1.911658</td>\n",
       "    </tr>\n",
       "    <tr>\n",
       "      <th>10</th>\n",
       "      <td>talukas_Maadi Sarayat</td>\n",
       "      <td>2.946478</td>\n",
       "    </tr>\n",
       "  </tbody>\n",
       "</table>\n",
       "</div>"
      ],
      "text/plain": [
       "                             feature        VIF\n",
       "0                          bathrooms  22.613610\n",
       "1                           bedrooms  36.979350\n",
       "2             area_in_squared_meters  23.884832\n",
       "3                properties_Duplexes   1.301972\n",
       "4           properties_Ground Floors   1.247281\n",
       "5              properties_Penthouses   2.022328\n",
       "6         finishing_level_Furnished    4.248219\n",
       "7   finishing_level_Modern Furnished   2.546171\n",
       "8     finishing_level_Semi Furnished   6.654923\n",
       "9       finishing_level_Unfurnished    1.911658\n",
       "10             talukas_Maadi Sarayat   2.946478"
      ]
     },
     "execution_count": 63,
     "metadata": {},
     "output_type": "execute_result"
    }
   ],
   "source": [
    "vif_data"
   ]
  },
  {
   "cell_type": "markdown",
   "id": "b81d0413",
   "metadata": {},
   "source": [
    "baseline 30 \n",
    "drop : bedrooms\n"
   ]
  },
  {
   "cell_type": "code",
   "execution_count": 96,
   "id": "12c582f0",
   "metadata": {},
   "outputs": [],
   "source": [
    "X=X.drop(columns='bedrooms')"
   ]
  },
  {
   "cell_type": "code",
   "execution_count": 97,
   "id": "7983c48d",
   "metadata": {},
   "outputs": [
    {
     "ename": "ValueError",
     "evalue": "list.remove(x): x not in list",
     "output_type": "error",
     "traceback": [
      "\u001b[1;31m---------------------------------------------------------------------------\u001b[0m",
      "\u001b[1;31mValueError\u001b[0m                                Traceback (most recent call last)",
      "Input \u001b[1;32mIn [97]\u001b[0m, in \u001b[0;36m<cell line: 1>\u001b[1;34m()\u001b[0m\n\u001b[1;32m----> 1\u001b[0m \u001b[43mNum_Columns\u001b[49m\u001b[38;5;241;43m.\u001b[39;49m\u001b[43mremove\u001b[49m\u001b[43m(\u001b[49m\u001b[38;5;124;43m'\u001b[39;49m\u001b[38;5;124;43mbedrooms\u001b[39;49m\u001b[38;5;124;43m'\u001b[39;49m\u001b[43m)\u001b[49m\n",
      "\u001b[1;31mValueError\u001b[0m: list.remove(x): x not in list"
     ]
    }
   ],
   "source": [
    "Num_Columns.remove('bedrooms')"
   ]
  },
  {
   "cell_type": "code",
   "execution_count": 98,
   "id": "4f27f99e",
   "metadata": {},
   "outputs": [],
   "source": [
    "Num_trans=Pipeline([('Scaling',StandardScaler())])\n",
    "Cat_trans=Pipeline([('OneHotEncoding',OneHotEncoder(drop='first'))])\n",
    "Preprocessing=ColumnTransformer([('cat',Cat_trans,Cat_Columns),('num',Num_trans,Num_Columns)])\n",
    "X_train,X_test,y_train,y_test=train_test_split(X,y,train_size=0.8,random_state=0)\n",
    "First ,third=y_train.quantile(0.25),y_train.quantile(0.75)\n",
    "IQR=1.5*(third-First)\n",
    "low=First-IQR\n",
    "high=third+IQR\n",
    "y_train=y_train[(y_train<=high)&(y_train>=low)]\n",
    "y_test=y_test[(y_test<=high)&(y_test>=low)]\n",
    "X_train=X_train[X_train.index.isin(y_train.index)]\n",
    "X_test=X_test[X_test.index.isin(y_test.index)]\n"
   ]
  },
  {
   "cell_type": "code",
   "execution_count": 99,
   "id": "56f68fe0",
   "metadata": {},
   "outputs": [],
   "source": [
    "model=Pipeline([('Transformation',Preprocessing),('model',Ridge())])\n",
    "\n",
    "cv=cross_val_score(model,X_train,y_train,cv=4,n_jobs=-1,scoring=mse)\n",
    "\n",
    "msq_cv=np.mean(cv)\n",
    "\n",
    "model.fit(X_train,y_train)\n",
    "\n",
    "msq_train=mean_squared_error(y_train,model.predict(X_train))\n",
    "\n"
   ]
  },
  {
   "cell_type": "code",
   "execution_count": 100,
   "id": "fada07d6",
   "metadata": {},
   "outputs": [
    {
     "data": {
      "image/png": "[encoded data removed]",
      "text/plain": [
       "<Figure size 432x288 with 1 Axes>"
      ]
     },
     "metadata": {
      "needs_background": "light"
     },
     "output_type": "display_data"
    }
   ],
   "source": [
    "plt.axhline(baseline,color='red')\n",
    "plt.axhline(msq_train,color='blue')\n",
    "plt.axhline(msq_cv,color='blue')\n",
    "plt.show()"
   ]
  },
  {
   "cell_type": "code",
   "execution_count": 101,
   "id": "edaac54b",
   "metadata": {},
   "outputs": [
    {
     "data": {
      "image/png": "[encoded data removed]",
      "text/plain": [
       "<Figure size 432x288 with 1 Axes>"
      ]
     },
     "metadata": {
      "needs_background": "light"
     },
     "output_type": "display_data"
    }
   ],
   "source": [
    "plt.axhline(baseline,color='red')\n",
    "plt.axhline(msq_train,color='black')\n",
    "plt.axhline(msq_cv,color='purple')\n",
    "plt.axhline(mean_squared_error(y_test,model.predict(X_test)),color='green')\n",
    "plt.show()\n"
   ]
  },
  {
   "cell_type": "code",
   "execution_count": 102,
   "id": "07a38000",
   "metadata": {},
   "outputs": [
    {
     "data": {
      "text/html": [
       "<style>#sk-container-id-4 {color: black;background-color: white;}#sk-container-id-4 pre{padding: 0;}#sk-container-id-4 div.sk-toggleable {background-color: white;}#sk-container-id-4 label.sk-toggleable__label {cursor: pointer;display: block;width: 100%;margin-bottom: 0;padding: 0.3em;box-sizing: border-box;text-align: center;}#sk-container-id-4 label.sk-toggleable__label-arrow:before {content: \"▸\";float: left;margin-right: 0.25em;color: #696969;}#sk-container-id-4 label.sk-toggleable__label-arrow:hover:before {color: black;}#sk-container-id-4 div.sk-estimator:hover label.sk-toggleable__label-arrow:before {color: black;}#sk-container-id-4 div.sk-toggleable__content {max-height: 0;max-width: 0;overflow: hidden;text-align: left;background-color: #f0f8ff;}#sk-container-id-4 div.sk-toggleable__content pre {margin: 0.2em;color: black;border-radius: 0.25em;background-color: #f0f8ff;}#sk-container-id-4 input.sk-toggleable__control:checked~div.sk-toggleable__content {max-height: 200px;max-width: 100%;overflow: auto;}#sk-container-id-4 input.sk-toggleable__control:checked~label.sk-toggleable__label-arrow:before {content: \"▾\";}#sk-container-id-4 div.sk-estimator input.sk-toggleable__control:checked~label.sk-toggleable__label {background-color: #d4ebff;}#sk-container-id-4 div.sk-label input.sk-toggleable__control:checked~label.sk-toggleable__label {background-color: #d4ebff;}#sk-container-id-4 input.sk-hidden--visually {border: 0;clip: rect(1px 1px 1px 1px);clip: rect(1px, 1px, 1px, 1px);height: 1px;margin: -1px;overflow: hidden;padding: 0;position: absolute;width: 1px;}#sk-container-id-4 div.sk-estimator {font-family: monospace;background-color: #f0f8ff;border: 1px dotted black;border-radius: 0.25em;box-sizing: border-box;margin-bottom: 0.5em;}#sk-container-id-4 div.sk-estimator:hover {background-color: #d4ebff;}#sk-container-id-4 div.sk-parallel-item::after {content: \"\";width: 100%;border-bottom: 1px solid gray;flex-grow: 1;}#sk-container-id-4 div.sk-label:hover label.sk-toggleable__label {background-color: #d4ebff;}#sk-container-id-4 div.sk-serial::before {content: \"\";position: absolute;border-left: 1px solid gray;box-sizing: border-box;top: 0;bottom: 0;left: 50%;z-index: 0;}#sk-container-id-4 div.sk-serial {display: flex;flex-direction: column;align-items: center;background-color: white;padding-right: 0.2em;padding-left: 0.2em;position: relative;}#sk-container-id-4 div.sk-item {position: relative;z-index: 1;}#sk-container-id-4 div.sk-parallel {display: flex;align-items: stretch;justify-content: center;background-color: white;position: relative;}#sk-container-id-4 div.sk-item::before, #sk-container-id-4 div.sk-parallel-item::before {content: \"\";position: absolute;border-left: 1px solid gray;box-sizing: border-box;top: 0;bottom: 0;left: 50%;z-index: -1;}#sk-container-id-4 div.sk-parallel-item {display: flex;flex-direction: column;z-index: 1;position: relative;background-color: white;}#sk-container-id-4 div.sk-parallel-item:first-child::after {align-self: flex-end;width: 50%;}#sk-container-id-4 div.sk-parallel-item:last-child::after {align-self: flex-start;width: 50%;}#sk-container-id-4 div.sk-parallel-item:only-child::after {width: 0;}#sk-container-id-4 div.sk-dashed-wrapped {border: 1px dashed gray;margin: 0 0.4em 0.5em 0.4em;box-sizing: border-box;padding-bottom: 0.4em;background-color: white;}#sk-container-id-4 div.sk-label label {font-family: monospace;font-weight: bold;display: inline-block;line-height: 1.2em;}#sk-container-id-4 div.sk-label-container {text-align: center;}#sk-container-id-4 div.sk-container {/* jupyter's `normalize.less` sets `[hidden] { display: none; }` but bootstrap.min.css set `[hidden] { display: none !important; }` so we also need the `!important` here to be able to override the default hidden behavior on the sphinx rendered scikit-learn.org. See: https://github.com/scikit-learn/scikit-learn/issues/21755 */display: inline-block !important;position: relative;}#sk-container-id-4 div.sk-text-repr-fallback {display: none;}</style><div id=\"sk-container-id-4\" class=\"sk-top-container\"><div class=\"sk-text-repr-fallback\"><pre>GridSearchCV(estimator=Pipeline(steps=[(&#x27;Transformation&#x27;,\n",
       "                                        ColumnTransformer(transformers=[(&#x27;cat&#x27;,\n",
       "                                                                         Pipeline(steps=[(&#x27;OneHotEncoding&#x27;,\n",
       "                                                                                          OneHotEncoder(drop=&#x27;first&#x27;))]),\n",
       "                                                                         [&#x27;properties&#x27;,\n",
       "                                                                          &#x27;finishing_level&#x27;,\n",
       "                                                                          &#x27;district&#x27;,\n",
       "                                                                          &#x27;talukas&#x27;]),\n",
       "                                                                        (&#x27;num&#x27;,\n",
       "                                                                         Pipeline(steps=[(&#x27;Scaling&#x27;,\n",
       "                                                                                          StandardScaler())]),\n",
       "                                                                         [&#x27;bathrooms&#x27;,\n",
       "                                                                          &#x27;area_in_squared_meters&#x27;])])),\n",
       "                                       (&#x27;model&#x27;, Ridge())]),\n",
       "             n_jobs=-1,\n",
       "             param_grid={&#x27;model__alpha&#x27;: [1e-05, 0.0001, 0.001, 0.01, 0.1]},\n",
       "             scoring=make_scorer(mean_squared_error))</pre><b>In a Jupyter environment, please rerun this cell to show the HTML representation or trust the notebook. <br />On GitHub, the HTML representation is unable to render, please try loading this page with nbviewer.org.</b></div><div class=\"sk-container\" hidden><div class=\"sk-item sk-dashed-wrapped\"><div class=\"sk-label-container\"><div class=\"sk-label sk-toggleable\"><input class=\"sk-toggleable__control sk-hidden--visually\" id=\"sk-estimator-id-24\" type=\"checkbox\" ><label for=\"sk-estimator-id-24\" class=\"sk-toggleable__label sk-toggleable__label-arrow\">GridSearchCV</label><div class=\"sk-toggleable__content\"><pre>GridSearchCV(estimator=Pipeline(steps=[(&#x27;Transformation&#x27;,\n",
       "                                        ColumnTransformer(transformers=[(&#x27;cat&#x27;,\n",
       "                                                                         Pipeline(steps=[(&#x27;OneHotEncoding&#x27;,\n",
       "                                                                                          OneHotEncoder(drop=&#x27;first&#x27;))]),\n",
       "                                                                         [&#x27;properties&#x27;,\n",
       "                                                                          &#x27;finishing_level&#x27;,\n",
       "                                                                          &#x27;district&#x27;,\n",
       "                                                                          &#x27;talukas&#x27;]),\n",
       "                                                                        (&#x27;num&#x27;,\n",
       "                                                                         Pipeline(steps=[(&#x27;Scaling&#x27;,\n",
       "                                                                                          StandardScaler())]),\n",
       "                                                                         [&#x27;bathrooms&#x27;,\n",
       "                                                                          &#x27;area_in_squared_meters&#x27;])])),\n",
       "                                       (&#x27;model&#x27;, Ridge())]),\n",
       "             n_jobs=-1,\n",
       "             param_grid={&#x27;model__alpha&#x27;: [1e-05, 0.0001, 0.001, 0.01, 0.1]},\n",
       "             scoring=make_scorer(mean_squared_error))</pre></div></div></div><div class=\"sk-parallel\"><div class=\"sk-parallel-item\"><div class=\"sk-item\"><div class=\"sk-label-container\"><div class=\"sk-label sk-toggleable\"><input class=\"sk-toggleable__control sk-hidden--visually\" id=\"sk-estimator-id-25\" type=\"checkbox\" ><label for=\"sk-estimator-id-25\" class=\"sk-toggleable__label sk-toggleable__label-arrow\">estimator: Pipeline</label><div class=\"sk-toggleable__content\"><pre>Pipeline(steps=[(&#x27;Transformation&#x27;,\n",
       "                 ColumnTransformer(transformers=[(&#x27;cat&#x27;,\n",
       "                                                  Pipeline(steps=[(&#x27;OneHotEncoding&#x27;,\n",
       "                                                                   OneHotEncoder(drop=&#x27;first&#x27;))]),\n",
       "                                                  [&#x27;properties&#x27;,\n",
       "                                                   &#x27;finishing_level&#x27;,\n",
       "                                                   &#x27;district&#x27;, &#x27;talukas&#x27;]),\n",
       "                                                 (&#x27;num&#x27;,\n",
       "                                                  Pipeline(steps=[(&#x27;Scaling&#x27;,\n",
       "                                                                   StandardScaler())]),\n",
       "                                                  [&#x27;bathrooms&#x27;,\n",
       "                                                   &#x27;area_in_squared_meters&#x27;])])),\n",
       "                (&#x27;model&#x27;, Ridge())])</pre></div></div></div><div class=\"sk-serial\"><div class=\"sk-item\"><div class=\"sk-serial\"><div class=\"sk-item sk-dashed-wrapped\"><div class=\"sk-label-container\"><div class=\"sk-label sk-toggleable\"><input class=\"sk-toggleable__control sk-hidden--visually\" id=\"sk-estimator-id-26\" type=\"checkbox\" ><label for=\"sk-estimator-id-26\" class=\"sk-toggleable__label sk-toggleable__label-arrow\">Transformation: ColumnTransformer</label><div class=\"sk-toggleable__content\"><pre>ColumnTransformer(transformers=[(&#x27;cat&#x27;,\n",
       "                                 Pipeline(steps=[(&#x27;OneHotEncoding&#x27;,\n",
       "                                                  OneHotEncoder(drop=&#x27;first&#x27;))]),\n",
       "                                 [&#x27;properties&#x27;, &#x27;finishing_level&#x27;, &#x27;district&#x27;,\n",
       "                                  &#x27;talukas&#x27;]),\n",
       "                                (&#x27;num&#x27;,\n",
       "                                 Pipeline(steps=[(&#x27;Scaling&#x27;,\n",
       "                                                  StandardScaler())]),\n",
       "                                 [&#x27;bathrooms&#x27;, &#x27;area_in_squared_meters&#x27;])])</pre></div></div></div><div class=\"sk-parallel\"><div class=\"sk-parallel-item\"><div class=\"sk-item\"><div class=\"sk-label-container\"><div class=\"sk-label sk-toggleable\"><input class=\"sk-toggleable__control sk-hidden--visually\" id=\"sk-estimator-id-27\" type=\"checkbox\" ><label for=\"sk-estimator-id-27\" class=\"sk-toggleable__label sk-toggleable__label-arrow\">cat</label><div class=\"sk-toggleable__content\"><pre>[&#x27;properties&#x27;, &#x27;finishing_level&#x27;, &#x27;district&#x27;, &#x27;talukas&#x27;]</pre></div></div></div><div class=\"sk-serial\"><div class=\"sk-item\"><div class=\"sk-serial\"><div class=\"sk-item\"><div class=\"sk-estimator sk-toggleable\"><input class=\"sk-toggleable__control sk-hidden--visually\" id=\"sk-estimator-id-28\" type=\"checkbox\" ><label for=\"sk-estimator-id-28\" class=\"sk-toggleable__label sk-toggleable__label-arrow\">OneHotEncoder</label><div class=\"sk-toggleable__content\"><pre>OneHotEncoder(drop=&#x27;first&#x27;)</pre></div></div></div></div></div></div></div></div><div class=\"sk-parallel-item\"><div class=\"sk-item\"><div class=\"sk-label-container\"><div class=\"sk-label sk-toggleable\"><input class=\"sk-toggleable__control sk-hidden--visually\" id=\"sk-estimator-id-29\" type=\"checkbox\" ><label for=\"sk-estimator-id-29\" class=\"sk-toggleable__label sk-toggleable__label-arrow\">num</label><div class=\"sk-toggleable__content\"><pre>[&#x27;bathrooms&#x27;, &#x27;area_in_squared_meters&#x27;]</pre></div></div></div><div class=\"sk-serial\"><div class=\"sk-item\"><div class=\"sk-serial\"><div class=\"sk-item\"><div class=\"sk-estimator sk-toggleable\"><input class=\"sk-toggleable__control sk-hidden--visually\" id=\"sk-estimator-id-30\" type=\"checkbox\" ><label for=\"sk-estimator-id-30\" class=\"sk-toggleable__label sk-toggleable__label-arrow\">StandardScaler</label><div class=\"sk-toggleable__content\"><pre>StandardScaler()</pre></div></div></div></div></div></div></div></div></div></div><div class=\"sk-item\"><div class=\"sk-estimator sk-toggleable\"><input class=\"sk-toggleable__control sk-hidden--visually\" id=\"sk-estimator-id-31\" type=\"checkbox\" ><label for=\"sk-estimator-id-31\" class=\"sk-toggleable__label sk-toggleable__label-arrow\">Ridge</label><div class=\"sk-toggleable__content\"><pre>Ridge()</pre></div></div></div></div></div></div></div></div></div></div></div></div>"
      ],
      "text/plain": [
       "GridSearchCV(estimator=Pipeline(steps=[('Transformation',\n",
       "                                        ColumnTransformer(transformers=[('cat',\n",
       "                                                                         Pipeline(steps=[('OneHotEncoding',\n",
       "                                                                                          OneHotEncoder(drop='first'))]),\n",
       "                                                                         ['properties',\n",
       "                                                                          'finishing_level',\n",
       "                                                                          'district',\n",
       "                                                                          'talukas']),\n",
       "                                                                        ('num',\n",
       "                                                                         Pipeline(steps=[('Scaling',\n",
       "                                                                                          StandardScaler())]),\n",
       "                                                                         ['bathrooms',\n",
       "                                                                          'area_in_squared_meters'])])),\n",
       "                                       ('model', Ridge())]),\n",
       "             n_jobs=-1,\n",
       "             param_grid={'model__alpha': [1e-05, 0.0001, 0.001, 0.01, 0.1]},\n",
       "             scoring=make_scorer(mean_squared_error))"
      ]
     },
     "execution_count": 102,
     "metadata": {},
     "output_type": "execute_result"
    }
   ],
   "source": [
    "param_grid=dict(model__alpha=[0.00001,0.0001,0.001,0.01,0.1])\n",
    "GS=GridSearchCV(model,param_grid=param_grid,scoring=mse,n_jobs=-1)\n",
    "GS.fit(X_train,y_train)"
   ]
  },
  {
   "cell_type": "code",
   "execution_count": 103,
   "id": "b6814a77",
   "metadata": {},
   "outputs": [
    {
     "data": {
      "image/png": "[encoded data removed]",
      "text/plain": [
       "<Figure size 432x288 with 1 Axes>"
      ]
     },
     "metadata": {
      "needs_background": "light"
     },
     "output_type": "display_data"
    }
   ],
   "source": [
    "plt.axhline(mean_squared_error(y_test,model.predict(X_test)),color='green')\n",
    "plt.axhline(mean_squared_error(y_test,GS.fit(X_train,y_train).predict(X_test)),color='purple')\n",
    "plt.show()"
   ]
  },
  {
   "cell_type": "code",
   "execution_count": 104,
   "id": "5c0c9bc2",
   "metadata": {},
   "outputs": [
    {
     "data": {
      "text/plain": [
       "True"
      ]
     },
     "execution_count": 104,
     "metadata": {},
     "output_type": "execute_result"
    }
   ],
   "source": [
    "mean_squared_error(y_test,model.predict(X_test))>mean_squared_error(y_test,GS.predict(X_test))"
   ]
  },
  {
   "cell_type": "code",
   "execution_count": 105,
   "id": "029799b5",
   "metadata": {},
   "outputs": [],
   "source": [
    "df2=pd.DataFrame({'predicts':GS.predict(X_test),'actual_values':y_test})"
   ]
  },
  {
   "cell_type": "code",
   "execution_count": 106,
   "id": "82ac5197",
   "metadata": {},
   "outputs": [
    {
     "data": {
      "image/png": "[encoded data removed]",
      "text/plain": [
       "<Figure size 432x288 with 1 Axes>"
      ]
     },
     "metadata": {
      "needs_background": "light"
     },
     "output_type": "display_data"
    }
   ],
   "source": [
    "ax=sns.kdeplot(df2['predicts'])\n",
    "sns.kdeplot(df2['actual_values'],ax=ax)\n",
    "plt.show()"
   ]
  },
  {
   "cell_type": "code",
   "execution_count": 107,
   "id": "82f626b9",
   "metadata": {},
   "outputs": [],
   "source": [
    "from sklearn.metrics import mean_absolute_error"
   ]
  },
  {
   "cell_type": "code",
   "execution_count": 108,
   "id": "5d7d2413",
   "metadata": {},
   "outputs": [
    {
     "data": {
      "text/html": [
       "<div>\n",
       "<style scoped>\n",
       "    .dataframe tbody tr th:only-of-type {\n",
       "        vertical-align: middle;\n",
       "    }\n",
       "\n",
       "    .dataframe tbody tr th {\n",
       "        vertical-align: top;\n",
       "    }\n",
       "\n",
       "    .dataframe thead th {\n",
       "        text-align: right;\n",
       "    }\n",
       "</style>\n",
       "<table border=\"1\" class=\"dataframe\">\n",
       "  <thead>\n",
       "    <tr style=\"text-align: right;\">\n",
       "      <th></th>\n",
       "      <th>predicts</th>\n",
       "      <th>actual_values</th>\n",
       "    </tr>\n",
       "  </thead>\n",
       "  <tbody>\n",
       "    <tr>\n",
       "      <th>204</th>\n",
       "      <td>1.753341e+06</td>\n",
       "      <td>1700000</td>\n",
       "    </tr>\n",
       "    <tr>\n",
       "      <th>64</th>\n",
       "      <td>4.178978e+06</td>\n",
       "      <td>5500000</td>\n",
       "    </tr>\n",
       "    <tr>\n",
       "      <th>160</th>\n",
       "      <td>5.058636e+06</td>\n",
       "      <td>8750000</td>\n",
       "    </tr>\n",
       "    <tr>\n",
       "      <th>68</th>\n",
       "      <td>1.292891e+06</td>\n",
       "      <td>1250000</td>\n",
       "    </tr>\n",
       "    <tr>\n",
       "      <th>130</th>\n",
       "      <td>1.698269e+06</td>\n",
       "      <td>1600000</td>\n",
       "    </tr>\n",
       "    <tr>\n",
       "      <th>59</th>\n",
       "      <td>5.654309e+06</td>\n",
       "      <td>7000000</td>\n",
       "    </tr>\n",
       "    <tr>\n",
       "      <th>8</th>\n",
       "      <td>4.862575e+06</td>\n",
       "      <td>5800000</td>\n",
       "    </tr>\n",
       "    <tr>\n",
       "      <th>6</th>\n",
       "      <td>3.446421e+06</td>\n",
       "      <td>3500000</td>\n",
       "    </tr>\n",
       "    <tr>\n",
       "      <th>113</th>\n",
       "      <td>5.245232e+06</td>\n",
       "      <td>5000000</td>\n",
       "    </tr>\n",
       "    <tr>\n",
       "      <th>181</th>\n",
       "      <td>5.856177e+06</td>\n",
       "      <td>7500000</td>\n",
       "    </tr>\n",
       "    <tr>\n",
       "      <th>62</th>\n",
       "      <td>2.517625e+06</td>\n",
       "      <td>4900000</td>\n",
       "    </tr>\n",
       "    <tr>\n",
       "      <th>123</th>\n",
       "      <td>6.256386e+06</td>\n",
       "      <td>6000000</td>\n",
       "    </tr>\n",
       "    <tr>\n",
       "      <th>214</th>\n",
       "      <td>3.846805e+06</td>\n",
       "      <td>3500000</td>\n",
       "    </tr>\n",
       "    <tr>\n",
       "      <th>131</th>\n",
       "      <td>1.846095e+06</td>\n",
       "      <td>1500000</td>\n",
       "    </tr>\n",
       "    <tr>\n",
       "      <th>96</th>\n",
       "      <td>6.480115e+06</td>\n",
       "      <td>5700000</td>\n",
       "    </tr>\n",
       "    <tr>\n",
       "      <th>52</th>\n",
       "      <td>4.985855e+06</td>\n",
       "      <td>5000000</td>\n",
       "    </tr>\n",
       "    <tr>\n",
       "      <th>97</th>\n",
       "      <td>3.418758e+06</td>\n",
       "      <td>2500000</td>\n",
       "    </tr>\n",
       "    <tr>\n",
       "      <th>126</th>\n",
       "      <td>2.975082e+06</td>\n",
       "      <td>3000000</td>\n",
       "    </tr>\n",
       "    <tr>\n",
       "      <th>185</th>\n",
       "      <td>2.429074e+06</td>\n",
       "      <td>2000000</td>\n",
       "    </tr>\n",
       "    <tr>\n",
       "      <th>125</th>\n",
       "      <td>5.595133e+06</td>\n",
       "      <td>6500000</td>\n",
       "    </tr>\n",
       "    <tr>\n",
       "      <th>139</th>\n",
       "      <td>4.949590e+06</td>\n",
       "      <td>4600000</td>\n",
       "    </tr>\n",
       "    <tr>\n",
       "      <th>203</th>\n",
       "      <td>1.753341e+06</td>\n",
       "      <td>1500000</td>\n",
       "    </tr>\n",
       "    <tr>\n",
       "      <th>224</th>\n",
       "      <td>5.625462e+06</td>\n",
       "      <td>5000000</td>\n",
       "    </tr>\n",
       "    <tr>\n",
       "      <th>63</th>\n",
       "      <td>5.973103e+06</td>\n",
       "      <td>5500000</td>\n",
       "    </tr>\n",
       "    <tr>\n",
       "      <th>205</th>\n",
       "      <td>4.728636e+06</td>\n",
       "      <td>5500000</td>\n",
       "    </tr>\n",
       "    <tr>\n",
       "      <th>31</th>\n",
       "      <td>4.818762e+06</td>\n",
       "      <td>4500000</td>\n",
       "    </tr>\n",
       "    <tr>\n",
       "      <th>196</th>\n",
       "      <td>2.738340e+06</td>\n",
       "      <td>3000000</td>\n",
       "    </tr>\n",
       "    <tr>\n",
       "      <th>211</th>\n",
       "      <td>4.755500e+06</td>\n",
       "      <td>4000000</td>\n",
       "    </tr>\n",
       "    <tr>\n",
       "      <th>39</th>\n",
       "      <td>3.497170e+06</td>\n",
       "      <td>4500000</td>\n",
       "    </tr>\n",
       "    <tr>\n",
       "      <th>9</th>\n",
       "      <td>3.881669e+06</td>\n",
       "      <td>5000000</td>\n",
       "    </tr>\n",
       "    <tr>\n",
       "      <th>145</th>\n",
       "      <td>5.959694e+06</td>\n",
       "      <td>5000000</td>\n",
       "    </tr>\n",
       "    <tr>\n",
       "      <th>159</th>\n",
       "      <td>3.519202e+06</td>\n",
       "      <td>3200000</td>\n",
       "    </tr>\n",
       "    <tr>\n",
       "      <th>43</th>\n",
       "      <td>2.996381e+06</td>\n",
       "      <td>3000000</td>\n",
       "    </tr>\n",
       "  </tbody>\n",
       "</table>\n",
       "</div>"
      ],
      "text/plain": [
       "         predicts  actual_values\n",
       "204  1.753341e+06        1700000\n",
       "64   4.178978e+06        5500000\n",
       "160  5.058636e+06        8750000\n",
       "68   1.292891e+06        1250000\n",
       "130  1.698269e+06        1600000\n",
       "59   5.654309e+06        7000000\n",
       "8    4.862575e+06        5800000\n",
       "6    3.446421e+06        3500000\n",
       "113  5.245232e+06        5000000\n",
       "181  5.856177e+06        7500000\n",
       "62   2.517625e+06        4900000\n",
       "123  6.256386e+06        6000000\n",
       "214  3.846805e+06        3500000\n",
       "131  1.846095e+06        1500000\n",
       "96   6.480115e+06        5700000\n",
       "52   4.985855e+06        5000000\n",
       "97   3.418758e+06        2500000\n",
       "126  2.975082e+06        3000000\n",
       "185  2.429074e+06        2000000\n",
       "125  5.595133e+06        6500000\n",
       "139  4.949590e+06        4600000\n",
       "203  1.753341e+06        1500000\n",
       "224  5.625462e+06        5000000\n",
       "63   5.973103e+06        5500000\n",
       "205  4.728636e+06        5500000\n",
       "31   4.818762e+06        4500000\n",
       "196  2.738340e+06        3000000\n",
       "211  4.755500e+06        4000000\n",
       "39   3.497170e+06        4500000\n",
       "9    3.881669e+06        5000000\n",
       "145  5.959694e+06        5000000\n",
       "159  3.519202e+06        3200000\n",
       "43   2.996381e+06        3000000"
      ]
     },
     "execution_count": 108,
     "metadata": {},
     "output_type": "execute_result"
    }
   ],
   "source": [
    "df1"
   ]
  },
  {
   "cell_type": "code",
   "execution_count": 109,
   "id": "9987e482",
   "metadata": {},
   "outputs": [
    {
     "name": "stdout",
     "output_type": "stream",
     "text": [
      "performance is increased significantly 108979236906.84839\n"
     ]
    }
   ],
   "source": [
    "## performance is increased significantly \n",
    "if mean_squared_error(df1['actual_values'],df1['predicts'])>mean_squared_error(df2['actual_values'],df2['predicts']):\n",
    "    print(f\"performance is increased significantly {mean_squared_error(df1['actual_values'],df1['predicts'])-mean_squared_error(df2['actual_values'],df2['predicts'])}\")"
   ]
  },
  {
   "cell_type": "markdown",
   "id": "35b31bfd",
   "metadata": {},
   "source": [
    "# Thank you "
   ]
  },
  {
   "cell_type": "markdown",
   "id": "326ce11e",
   "metadata": {},
   "source": [
    "Limitations :\n",
    "\n",
    "Maadi Degla and Maadi Sarayat\n",
    "\n",
    "Penthouses ,Duplexes ,Ground Floors ,Apartments\n",
    "\n",
    "Unfurnished ,Modern Furnished ,Furnished ,Semi Furnished"
   ]
  }
 ],
 "metadata": {
  "kernelspec": {
   "display_name": "Python 3 (ipykernel)",
   "language": "python",
   "name": "python3"
  },
  "language_info": {
   "codemirror_mode": {
    "name": "ipython",
    "version": 3
   },
   "file_extension": ".py",
   "mimetype": "text/x-python",
   "name": "python",
   "nbconvert_exporter": "python",
   "pygments_lexer": "ipython3",
   "version": "3.10.5"
  },
  "vp": {
   "vp_config_version": "1.0.0",
   "vp_menu_width": 273,
   "vp_note_display": false,
   "vp_note_width": 0,
   "vp_position": {
    "width": 278
   },
   "vp_section_display": false,
   "vp_signature": "VisualPython"
  }
 },
 "nbformat": 4,
 "nbformat_minor": 5
}
